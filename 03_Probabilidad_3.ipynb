{
  "nbformat": 4,
  "nbformat_minor": 0,
  "metadata": {
    "colab": {
      "provenance": [],
      "authorship_tag": "ABX9TyP/ROAi5GscNO+CSMDvJ0Ad",
      "include_colab_link": true
    },
    "kernelspec": {
      "name": "python3",
      "display_name": "Python 3"
    },
    "language_info": {
      "name": "python"
    }
  },
  "cells": [
    {
      "cell_type": "markdown",
      "metadata": {
        "id": "view-in-github",
        "colab_type": "text"
      },
      "source": [
        "<a href=\"https://colab.research.google.com/github/JSEFERINO/Teoria-de-Probabilidad-MEYCD/blob/main/03_Probabilidad_3.ipynb\" target=\"_parent\"><img src=\"https://colab.research.google.com/assets/colab-badge.svg\" alt=\"Open In Colab\"/></a>"
      ]
    },
    {
      "cell_type": "markdown",
      "source": [
        "\n",
        "# **Curso de Estadistica: Parte_III: Probabilidad**\n",
        "+ **Julio Hurtado Marquez**\"\n",
        "+ Año 2024\n",
        "   email: juliohurtado210307@gmail.com\n",
        "\n"
      ],
      "metadata": {
        "id": "UHwUwClMFTru"
      }
    },
    {
      "cell_type": "markdown",
      "source": [
        "\n",
        "# **3.1. Ejemplo de Experimentos determinista y aleatorios**\n"
      ],
      "metadata": {
        "id": "yfMABFueSCb3"
      }
    },
    {
      "cell_type": "markdown",
      "source": [
        "## **$\\bullet$** **1. Experimento determinista: Produce siempre el mismo resultado**\n",
        "\n",
        "## **$\\bullet$** **Ejemplo: Preguntar la Edad de 10 niños de 4 años**\n"
      ],
      "metadata": {
        "id": "kt5bAyK3CGFT"
      }
    },
    {
      "cell_type": "code",
      "source": [
        "import random # Importamos la libreria a usar\n",
        "import matplotlib.pyplot as plt # La usaremos para crear gráficos\n",
        "# Anotemos la edad de 10 niños de 4 años\n",
        "\n",
        "Datos = []\n",
        "\n",
        "def Edad():\n",
        "    resultado = random.choice(['4 años'])\n",
        "    return resultado\n",
        "\n",
        "# Simulación de lanzar la moneda 5 veces\n",
        "for i in range(10):\n",
        "    Datos.append(Edad())\n",
        "    print(\"Niño\", i+1, \"tiene :\", Edad())\n",
        "\n",
        "\n",
        "# Contar la frecuencia de cada resultado\n",
        "Edad_count = Datos.count('4 años')\n",
        "\n",
        "# Generar histograma\n",
        "plt.bar(['4 años'], [Edad_count], color = ['blue', 'salmon'])\n",
        "plt.title('Histograma Edad')\n",
        "plt.xlabel('Resultado')\n",
        "plt.ylabel('Frecuencia')\n",
        "plt.show()\n"
      ],
      "metadata": {
        "colab": {
          "base_uri": "https://localhost:8080/",
          "height": 646
        },
        "id": "N0XzeUYjCOGy",
        "outputId": "7a56237f-dab9-48cb-d547-ee81af514c19"
      },
      "execution_count": 1,
      "outputs": [
        {
          "output_type": "stream",
          "name": "stdout",
          "text": [
            "Niño 1 tiene : 4 años\n",
            "Niño 2 tiene : 4 años\n",
            "Niño 3 tiene : 4 años\n",
            "Niño 4 tiene : 4 años\n",
            "Niño 5 tiene : 4 años\n",
            "Niño 6 tiene : 4 años\n",
            "Niño 7 tiene : 4 años\n",
            "Niño 8 tiene : 4 años\n",
            "Niño 9 tiene : 4 años\n",
            "Niño 10 tiene : 4 años\n"
          ]
        },
        {
          "output_type": "display_data",
          "data": {
            "text/plain": [
              "<Figure size 640x480 with 1 Axes>"
            ],
            "image/png": "[encoded data removed]"
          },
          "metadata": {}
        }
      ]
    },
    {
      "cell_type": "markdown",
      "source": [
        "# **2. Experimento Aleatorio: Simulación de lanzamiento de moneda 1000 veces**\n",
        "### **$\\bullet$** **Este experimento simula el lanzamiento de una moneda el numero de veces que queramos**"
      ],
      "metadata": {
        "id": "RFRuMozNCjCO"
      }
    },
    {
      "cell_type": "code",
      "source": [
        "import matplotlib.pyplot as plt\n",
        "\n",
        "# Función para simular lanzamientos de moneda y obtener resultados\n",
        "def lanzamiento_moneda(n):\n",
        "    resultados = [random.choice(['cara', 'cruz']) for _ in range(n)]\n",
        "    return resultados\n",
        "\n",
        "# Simulación de lanzar la moneda 1000 veces\n",
        "resultados = lanzamiento_moneda(100)\n",
        "\n",
        "# Contar la frecuencia de cada resultado\n",
        "cara_count = resultados.count('cara')\n",
        "cruz_count = resultados.count('cruz')\n",
        "\n",
        "#!pip install texttable &>/dev/null # La usaremos para crea tablas\n",
        "from texttable import Texttable # La usaremos para crea tablas\n",
        "\n",
        "# Tabla Resumen\n",
        "t1 = Texttable()\n",
        "t1.add_rows([['Resultado','frecuencia', 'Porcentaje' ],\n",
        "           ['cara',\tcara_count, cara_count/(cara_count+cruz_count)*100],\n",
        "           ['cruz',\tcruz_count, cruz_count/(cara_count+cruz_count)*100]])\n",
        "print(t1.draw())\n",
        "\n",
        "# Generar histograma\n",
        "plt.bar(['Cara', 'Cruz'], [cara_count, cruz_count], color = ['blue', 'salmon'])\n",
        "plt.title('Histograma de Lanzamiento de Moneda')\n",
        "plt.xlabel('Resultado')\n",
        "plt.ylabel('Frecuencia')\n",
        "plt.show()\n"
      ],
      "metadata": {
        "colab": {
          "base_uri": "https://localhost:8080/",
          "height": 601
        },
        "id": "_1lD1aZgCkfF",
        "outputId": "34d37907-4d3f-46a6-fd8f-47c50aea8bda"
      },
      "execution_count": null,
      "outputs": [
        {
          "output_type": "stream",
          "name": "stdout",
          "text": [
            "+-----------+------------+------------+\n",
            "| Resultado | frecuencia | Porcentaje |\n",
            "+===========+============+============+\n",
            "| cara      | 48         | 48         |\n",
            "+-----------+------------+------------+\n",
            "| cruz      | 52         | 52         |\n",
            "+-----------+------------+------------+\n"
          ]
        },
        {
          "output_type": "display_data",
          "data": {
            "text/plain": [
              "<Figure size 640x480 with 1 Axes>"
            ],
            "image/png": "[encoded data removed]"
          },
          "metadata": {}
        }
      ]
    },
    {
      "cell_type": "markdown",
      "source": [
        "## **Un experimento donde lanzamos un par de dados mil veces y anotamos los resultados**\n",
        "+ Este programa te dará una idea clara de cómo se distribuyen las sumas de dos dados lanzados múltiples veces.\n",
        "+ Puedes ajustar el número de lanzamientos (n) para ver cómo cambia la distribución."
      ],
      "metadata": {
        "id": "Btgh0m4C_9e-"
      }
    },
    {
      "cell_type": "code",
      "source": [
        "import random\n",
        "import matplotlib.pyplot as plt\n",
        "\n",
        "def lanzar_dados(n):\n",
        "    resultados = [0] * 11  # Arreglo para contar las sumas posibles (2 a 12)\n",
        "\n",
        "    for _ in range(n):\n",
        "        dado1 = random.randint(1, 6)\n",
        "        dado2 = random.randint(1, 6)\n",
        "        suma = dado1 + dado2\n",
        "        resultados[suma - 2] += 1  # Almacenamos en el índice correspondiente\n",
        "\n",
        "    return resultados\n",
        "\n",
        "def mostrar_resultados(resultados):\n",
        "    sumas = list(range(2, 13))  # Posibles sumas de 2 a 12\n",
        "    plt.bar(sumas, resultados, tick_label=sumas)\n",
        "    plt.xlabel('Suma de los dados')\n",
        "    plt.ylabel('Frecuencia')\n",
        "    plt.title('Frecuencia de las sumas al lanzar dos dados')\n",
        "    plt.show()\n",
        "\n",
        "# Número de lanzamientos\n",
        "n = 1000\n",
        "resultados = lanzar_dados(n)\n",
        "mostrar_resultados(resultados)\n",
        "\n",
        "print(\"Frecuencia de las sumas:\")\n",
        "for suma, frecuencia in zip(range(2, 13), resultados):\n",
        "    print(f\"Suma {suma}: {frecuencia} veces\")\n"
      ],
      "metadata": {
        "colab": {
          "base_uri": "https://localhost:8080/",
          "height": 680
        },
        "id": "4Y4PwpZz_dZ1",
        "outputId": "9de4c8d7-2ce0-4eca-f59e-c175579b6c24"
      },
      "execution_count": 8,
      "outputs": [
        {
          "output_type": "display_data",
          "data": {
            "text/plain": [
              "<Figure size 640x480 with 1 Axes>"
            ],
            "image/png": "[encoded data removed]"
          },
          "metadata": {}
        },
        {
          "output_type": "stream",
          "name": "stdout",
          "text": [
            "Frecuencia de las sumas:\n",
            "Suma 2: 29 veces\n",
            "Suma 3: 60 veces\n",
            "Suma 4: 73 veces\n",
            "Suma 5: 119 veces\n",
            "Suma 6: 127 veces\n",
            "Suma 7: 149 veces\n",
            "Suma 8: 149 veces\n",
            "Suma 9: 112 veces\n",
            "Suma 10: 87 veces\n",
            "Suma 11: 67 veces\n",
            "Suma 12: 28 veces\n"
          ]
        }
      ]
    },
    {
      "cell_type": "markdown",
      "source": [
        "# **4.0. Actividades independientes**\n",
        "- **Veamos el video Tipos de Experimentos**\n",
        "  - [Veamos el video Tipos de Experimentos](https://youtu.be/huSkDf3UOCc)\n"
      ],
      "metadata": {
        "id": "TEnruXAVSInw"
      }
    },
    {
      "cell_type": "markdown",
      "source": [
        "\n",
        "# **5.0. El espacio muestral de un experimento aleatorio $\\Omega$**\n",
        "\n",
        "- Es el conjunto de todos los posibles resultados del experimento aleatorio y se le denota, generalmente, por la letra griega $\\Omega$.\n",
        "+ A un resultado particular del experimento se le denota por la letra $\\omega$.\n",
        "\n",
        "- El espacio muestral no es necesariamente único y su determinación depende de lo que desea observar o estudiar la persona que realiza el experimento aleatorio.\n",
        "-  Se usa también la letra $S$ para denotar al espacio muestral.\n",
        "- Llamaremos ***evento o suceso*** a cualquier subconjunto del espacio muestral. Los eventos se denotan por las primeras letras del alfabeto en mayúsculas: $$A, \\ B, \\  C, \\  D, \\  E, \\  F,  \\ G, \\dots$$"
      ],
      "metadata": {
        "id": "0MZNzW5ZJvAl"
      }
    },
    {
      "cell_type": "markdown",
      "source": [
        "\n",
        "## **5.1 Veamos el video Espacio muestral de un experimento aleatorio**\n",
        "\n",
        "##**[Video Espacio muestral de un experimento aleatorio](https://www.youtube.com/watch?v=fd5kmNUwVK4&t=58s)**\n",
        "\n"
      ],
      "metadata": {
        "id": "6IPF5BSPKPEU"
      }
    },
    {
      "cell_type": "markdown",
      "source": [
        "## **5.2 Ejemplos de Espacio muestral de un experimento aleatorio**\n",
        "\n",
        "###  **a. Ejemplo 1**. E.A: Lanzamiento de un dado y observar el número que aparece en la cara superior.\n",
        "- Espacio muestral es $\\Omega=\\{1, 2, 3, 4, 5, 6\\}$\n",
        "- **Eventos**:  $A=\\{2, 4, 6\\}$ es un evento. $\\sharp(\\Omega)=6$ y  $\\sharp(A)=3$\n"
      ],
      "metadata": {
        "id": "C_s8niGJLbPL"
      }
    },
    {
      "cell_type": "markdown",
      "source": [
        "\n",
        "\n",
        "###  **b. Ejemplo 2**.  E.A:   Participar en una rifa de los números $\\{1,2, \\cdots, 100\\}$\n",
        "- Espacio muestral: $\\Omega_1=\\{1, 2, 3, 4, 5, ..., 100\\}$ con $\\sharp(\\Omega_1)=100$\n",
        "- o bien $\\Omega_2=\\{``GANAR\", ``PERDER\"\\}$.  con  $\\sharp(\\Omega_2)=2$\n"
      ],
      "metadata": {
        "id": "Xg-KeQvjLfLR"
      }
    },
    {
      "cell_type": "markdown",
      "source": [
        "\n",
        "\n",
        "###  **c. Ejemplo 3**. Considere el E.A:  Lanzamiento de una moneda balanceada.\n",
        "- El espacio muestral es $\\Omega=\\{``cara\",``sello\"\\}=\\{\\textbf{C},\\textbf{S}\\}$ y   o bien $\\Omega=\\{``0\", ``1\"\\}$. $\\sharp(\\Omega)=2$\n"
      ],
      "metadata": {
        "id": "FjjRMTnMLjDS"
      }
    },
    {
      "cell_type": "markdown",
      "source": [
        "\n",
        "###  **d. Ejemplo 4**.  *Considere el E.A:  Lanzamiento de un dado hasta que apaece un 6*\n",
        "- El espacio muestral es $$\\Omega=\\{(6),(1,6),(2,6),...,(5,6), (1,1,6),...,(1,5,6), (2,1,6), ...,(3,1,6),...\\}$$ . $$\\sharp(\\Omega)=\\infty$$\n",
        "\n"
      ],
      "metadata": {
        "id": "B_ytwvsGLln7"
      }
    },
    {
      "cell_type": "markdown",
      "source": [
        "\n",
        "###  **e. Ejemplo 5**.  Considere el E.A:  Tiempo de espera hasta que ocurre un evento.\n",
        "\n",
        "- El espacio muestral es $$\\Omega=\\{0, 1, 2, 3, 4, 5, ...\\}$$ y   o bien $$\\Omega=[0,\\infty), \\ \\sharp(\\Omega)=\\infty$$.\n"
      ],
      "metadata": {
        "id": "db81EBOELpGi"
      }
    },
    {
      "cell_type": "markdown",
      "source": [
        "###  **f. Ejemplo 6**.  E.A:  *Lanzar un dado en un tablero circular de radio 1.*\n",
        "\n",
        "- Espacio muestral es $\\Omega=\\{(x,y) \\mid x^2+y^2\\leqslant1\\}$    o bien $\\Omega=\\{(r,\\theta) \\mid 0\\leq r\\leq 1, 0\\leq \\theta\\leq 2\\pi\\}$.\n",
        "- $\\sharp(\\Omega)=2\\pi$"
      ],
      "metadata": {
        "id": "bgamdZMYM9fR"
      }
    },
    {
      "cell_type": "code",
      "source": [
        "import matplotlib.pyplot as plt\n",
        "import matplotlib.animation as animation\n",
        "from IPython.display import HTML\n",
        "import numpy as np\n",
        "\n",
        "# Paso 1: Crear el tablero circular\n",
        "circle = plt.Circle((0, 0), 1, edgecolor='r', facecolor='none')\n",
        "\n",
        "# Paso 2: Función para lanzar el dado dentro del círculo\n",
        "def lanzar_dado():\n",
        "    while True:\n",
        "        x, y = np.random.uniform(-1, 1, 2)\n",
        "        if x**2 + y**2 <= 1:\n",
        "            break\n",
        "    resultado_dado = np.random.randint(1, 7)\n",
        "    return x, y, resultado_dado\n",
        "\n",
        "# Paso 3: Crear la animación\n",
        "fig, ax = plt.subplots()\n",
        "ax.add_patch(circle)\n",
        "ax.set_xlim(-1.1, 1.1)\n",
        "ax.set_ylim(-1.1, 1.1)\n",
        "ax.set_aspect('equal')\n",
        "\n",
        "puntos, = ax.plot([], [], 'o', color='blue')\n",
        "resultado_text = ax.text(-1, 1.1, '', fontsize=15)\n",
        "\n",
        "def init():\n",
        "    puntos.set_data([], [])\n",
        "    resultado_text.set_text('')\n",
        "    return puntos, resultado_text\n",
        "\n",
        "def animate(i):\n",
        "    x, y, resultado_dado = lanzar_dado()\n",
        "    puntos.set_data(x, y)\n",
        "    resultado_text.set_text(f'Resultado del dado: {resultado_dado}')\n",
        "    return puntos, resultado_text\n",
        "\n",
        "ani = animation.FuncAnimation(fig, animate, init_func=init, frames=24, interval=1000, repeat=False)\n",
        "\n",
        "# Guardar la animación como un archivo de video\n",
        "# Muestra la animación en el notebook\n",
        "HTML(ani.to_html5_video())\n",
        "\n"
      ],
      "metadata": {
        "colab": {
          "base_uri": "https://localhost:8080/",
          "height": 969
        },
        "id": "EQ19WLh-L_U4",
        "outputId": "67fc41bf-821f-4e1f-aa8a-002e7ff630cb"
      },
      "execution_count": 13,
      "outputs": [
        {
          "output_type": "stream",
          "name": "stderr",
          "text": [
            "<ipython-input-13-62cddfae622d>:35: MatplotlibDeprecationWarning: Setting data with a non sequence type is deprecated since 3.7 and will be remove two minor releases later\n",
            "  puntos.set_data(x, y)\n"
          ]
        },
        {
          "output_type": "execute_result",
          "data": {
            "text/plain": [
              "<IPython.core.display.HTML object>"
            ],
            "text/html": [
              "<video width=\"640\" height=\"480\" controls autoplay>\n",
              "  <source type=\"video/mp4\" src=\"data:video/mp4;base64,AAAAIGZ0eXBNNFYgAAACAE00ViBpc29taXNvMmF2YzEAAAAIZnJlZQAAW7NtZGF0AAACrQYF//+p\n",
              "3EXpvebZSLeWLNgg2SPu73gyNjQgLSBjb3JlIDE2MyByMzA2MCA1ZGI2YWE2IC0gSC4yNjQvTVBF\n",
              "Ry00IEFWQyBjb2RlYyAtIENvcHlsZWZ0IDIwMDMtMjAyMSAtIGh0dHA6Ly93d3cudmlkZW9sYW4u\n",
              "b3JnL3gyNjQuaHRtbCAtIG9wdGlvbnM6IGNhYmFjPTEgcmVmPTMgZGVibG9jaz0xOjA6MCBhbmFs\n",
              "eXNlPTB4MzoweDExMyBtZT1oZXggc3VibWU9NyBwc3k9MSBwc3lfcmQ9MS4wMDowLjAwIG1peGVk\n",
              "X3JlZj0xIG1lX3JhbmdlPTE2IGNocm9tYV9tZT0xIHRyZWxsaXM9MSA4eDhkY3Q9MSBjcW09MCBk\n",
              "ZWFkem9uZT0yMSwxMSBmYXN0X3Bza2lwPTEgY2hyb21hX3FwX29mZnNldD0tMiB0aHJlYWRzPTMg\n",
              "bG9va2FoZWFkX3RocmVhZHM9MSBzbGljZWRfdGhyZWFkcz0wIG5yPTAgZGVjaW1hdGU9MSBpbnRl\n",
              "cmxhY2VkPTAgYmx1cmF5X2NvbXBhdD0wIGNvbnN0cmFpbmVkX2ludHJhPTAgYmZyYW1lcz0zIGJf\n",
              "cHlyYW1pZD0yIGJfYWRhcHQ9MSBiX2JpYXM9MCBkaXJlY3Q9MSB3ZWlnaHRiPTEgb3Blbl9nb3A9\n",
              "MCB3ZWlnaHRwPTIga2V5aW50PTI1MCBrZXlpbnRfbWluPTEgc2NlbmVjdXQ9NDAgaW50cmFfcmVm\n",
              "cmVzaD0wIHJjX2xvb2thaGVhZD00MCByYz1jcmYgbWJ0cmVlPTEgY3JmPTIzLjAgcWNvbXA9MC42\n",
              "MCBxcG1pbj0wIHFwbWF4PTY5IHFwc3RlcD00IGlwX3JhdGlvPTEuNDAgYXE9MToxLjAwAIAAAD+R\n",
              "ZYiEABf//vfUt8yy7VNvtguo96KeJl9DdSUBm5bE7TqAAAADAAADAAAevBc4Al+JCvOvAAADAMrL\n",
              "pP6B09LMeABKFgyRwvWYp5Rs+h+kNrfLzVf7T8iordiSAaHifpxidiR3AnTfVqx5mpmtaijNoZ1k\n",
              "1PVR6YK2GiSxRl33RWtOsDjuuRuz8U9sGU+YD4yOd44O054E+DO1ZBiAnKqNOnWweTdCa9CNysgE\n",
              "lMp++fFl8PDrrHzeBAotHEJLOdvFgEZ5EHT1r0MtqUdObkPhOOJ6AQo406H5oWLhjTQV1KS7EbTv\n",
              "/L01gzWVz0mWfpf5/s5xehLk5aLOgvHnJyseNIkbv8sTi5G1BQAzAzR/bxbxISs/jQgReZ6gAtK3\n",
              "fIKYuj/TI74fZoB81yXLu+95HN9HVIN4gwvjwrEyMobliQyCZ86YhcZSbcKQNoRuQkeo93iXMn7M\n",
              "2VLJMjNsx1iLxxzlpmTr94q1XEa7g5pHVUBRGVNR/3FIc39AmWybhI3qyyzsmf75jEFsEkan5KCc\n",
              "87LdSvX2p3qFCoA2fW86XcwAIG26VyzxylRM4MrkMosOsJcCqdT4qh5NAHdr2/MHNacr9dSvuEMo\n",
              "ATmb//BVUdKbtwYSM8zjM/ooiAyMjajqBWjFXrDNt7yEfiJLzfbGw4GfuFI1ukwmB5uyZ7fFLuBT\n",
              "k8k3p9ismQVYXb9/GhcPcn3N48VYPxVomiepSbi6Gt1cpEE1Me6a86Mb5cfxjrUETHcUjMEJ77tb\n",
              "d55gk3ByNeaRA3yHlQakop+9G0GNAIb4irpV76zSvvTjLTKXLEqmbhv+4eLRXbzyE2NjtsACOR6h\n",
              "w8XRoPZRP0Rc9wmMBrN6YzX/H/O1E0SG2d0tBj3ep86/I2I8nK3gFdTfEAypd/SOw7wmZ0NoTdDd\n",
              "eNYsT320eGhrEy2JHXj9z1pm4NKhC6hzgF20JERFT+RZJoI6NIr2GYG45M2UguOIPJcACdczk1Up\n",
              "UAFJHX7NQsA0HTihLkFZot8ZOMiqaA0uY/gZwwFwIA6X7ZCsMVNIEmB84woyOFSnYQswuo3eyyzl\n",
              "YQTqToeYIc3sIipN2PRunHVaZV2MEE5Jpm2Mub/0JcPgGxzNmnHEJc8OmGGNwKuNpWpqmjB+CTJA\n",
              "ynKdXGz1t5M+PyjESoSdLXXo8VfEDH+3LpsYApeJZ8RzYtiCgOkfzNH6XuVO1cLL8sb/n3PQ47vI\n",
              "7Y2tPYFjskcVwTHQMcRKv2v2hGuCrSeMBU9h7mI1l0AVhqiBVPh5zgXV/yrX5NtAPCXPZ5qDIgAQ\n",
              "2KVU5hBI3Os84DoAQ3jhmiZE2cYEvEn/+yx7IjLoQVe0rHsCnXYdFtj1JtMSO+nt1FksWJcgKG61\n",
              "AMIqMnP3X3HNezsAJqU9GWSZKiACzy+CtXRMKO10ycoaGTVACRqIh2IBCvanDsmSxVbysvu8MYks\n",
              "cbzLaJuyXvZTfWIuwHHD6AsaBnycpoUr+coWRSeiy7RgHRgFy30LmAeFa9+/e8+/S/8607QZ8o8x\n",
              "6a3SO3HX39/oEd8bufbJiKJ9OF30gbLrCGdKUliD+01CpgboRO8iOCQY1tNZ3to40g8rVVd1WOKw\n",
              "dwVZzdIyE6SnMt1kygKReE5iqXoeEdU32ABkbmVtZBRddlKeqBXhRD9cuHsmEfs6cVa/mm8O3PEP\n",
              "jZKGoGT5iIHbdWyxpU9paL4mUN8H7PUr74ZwriKyjl6IndEyrgJ0GwWdJ3OL2S3aPHToQt4qbWtR\n",
              "tbOUw9paWjwTd8Ebj772nXstbz0uWAbdWti3/5PbsFPfIST9zFhOWtdcgGLYk37cETBNMjqlgsxu\n",
              "U9pbzNFh7/SpWp00vFrJM1CkwPUnIFiLaW78eiT2+Whpmwbo04i5kxkr2uY4090FuU19sEC+h2Ys\n",
              "/h5/GJrG4wtjgxeHhzhK+gO6+4FAF3qFSzQvwG0wJ8FcyI5MYTpdB9wvYwp6bSM3Lo7qo8wlY8OY\n",
              "VTLDHZJIETl5af62iooy/+c9S2xWl0VKqxk4R+rKDf0Kr8z5oKznqJbvM/dZcT2EjQq4aH79IHNE\n",
              "e2YA3ODXYZUhKRetmq/7l4LvGeRrwKCiGNWKN2y3u1kFS+Eo42kVnZbCcGBtHxM46QzZDwXG5Hmi\n",
              "ewthIhuupKgr5d0ex9O/QJGxFmic+iWs+tVH/9nTN4nFU+yaOFPJp9Oy3Rp0SgNh+g4D3ic+YJDZ\n",
              "QSl4vHzayUxOoja8ETtAfGsJZm2nek3oskP5I9OTIh4bBiaXO1/e0RkVfwnVzGDA6uaxoCgzTv+b\n",
              "LwMhZjoRfgXyzAukpC60Rm60Mw0CI86HYc9VlOrUsblOtpnqF8OnAXYaqujFqIj418X+wbfRmsjs\n",
              "FCiM7eOdOAe1kJCHwTh8bZu3qlvHKXqtSnn7hVM+wr6pmRwHUOf/OTEGN/BvgmUYOz7niPAJL26w\n",
              "vmN+KiLRvCU3DSaiZokYDSl0eG+Nq7T7xoZOaoCf77cm6G3jR55jiq0AFSTr1NTU+cxnujEbhohf\n",
              "ggYwtmXtxnV96ENLGNbAtckAnHFHXVWpkrzlTMp22VyFOBgjkGRuWauJmURBhgvDyXwiWS3KV2iH\n",
              "VlYQLGTO8db+eFPfG3q+KhgsQVMxLae6uaa+Dg1gm6jdfs70SSUwmkDgMntnjpIeSXXwO+ImCOaI\n",
              "MezZwTZZlwCNgtfX2JIv///gDCus+ntYl4Nq0Wwxd4sGJhSv4u6FkPmaf4p97s5AoqbA9JGpwJ+0\n",
              "1RmhhkVZGuO3ru1ERQMOK8HDhvL//5c8vwsD7qc8Ezh5j3/Ju1YDQJg08NwdrGiI+fJJz96wFOFF\n",
              "sWLaXC78ZwwQC4HaDOkgxQqFmStTZ1/0uB29u4vOKHg3kUMgm9aBLD54voVmbkQirXISF1TOj7ca\n",
              "r89fx4q3pJstVN80YJSl+6/o93Htw71CAhVvfuj6bW0HDIFS84F/SlTQjSr11oYYVajGmqn6qBr7\n",
              "U3sUb6LiKa+F47rKtJfgBMnNTCNHiCBC1zrJ13VabVjstIZMtZ/FC3dHTo2Lx9LBx9IfHpgRoAVV\n",
              "CFkP5llrF3ghpajLLgGWA3HmIYwl24Re6KM3anjhaVXEQNzzS/AAao4XMRg2lmupeWuojVV+Q1mD\n",
              "cv1ThxxkiV0Pwt5cja27tfNhR/3LnXUTyLoJDmY1W8mIP12nIOAkVtOv8eJFef7/9MXTl5cvu39z\n",
              "VJD8la+9AJOCIB2vgslzr8BRVeaPQ+ustzD7k1yGYYDSJ7Bm1d0VhPEapt4A6C45XtJgwPo3R6Lm\n",
              "We7sTG1fMKoFOuhyv8mldrdBJtL116kficA3RvUxAQjyGcRmOfNbbAOWfZ+8EoVgL1LKd7LjHUBg\n",
              "AX8yr5GwKXkuqpiAL7JVeIFR9ur5JL2t2cE+1jjj0vY9h2Ww9Vr9GMIAswBdPW6rLvpUs/ahH8NA\n",
              "jSS4te+qox6UikagPFlT6kycuXA46Rq9c37pzIlQ/6DTSnCH33iWLjJ1c1UGrR1M8aUqMq34WYpJ\n",
              "Mb0KHmvyRLPLY4+6vnCdJgQtGvBN/G7AqMy6lcfL5AOCEO0og86irPpfzjKu+Ll/3Zt7wCm6E3FA\n",
              "m1rZXcON22ooWCRJ/3XR0kHv+/RvLa9myeuytDIoC5qsdD7yWkl/cLBS9p5Reu7EiXkxNaZY2LuL\n",
              "tmXKD3Exu//Zzivx2//1iUn+bqJn6DMrBfED/DSShkwta6Uu4ZWMsogSd7cWrxnHOBX7PwMM2nbD\n",
              "aEYzDIr+sRtv8sdUk2AdrXrPZSKFY6WHdRsdmZmfU2mqyTBAW76JRGLXVghqWlb2jXkt6aqzmLDA\n",
              "Uy/smvRIROHF6NHk/oV/QneUAmRtQbjAyloO5GBPgUm96T3+R7RDt3ABAXISZZlxCHtnJSH2Unb7\n",
              "31wENtR6BUBiluIeizvJt0sUMfVWPlMQROCaWIl5qLG6dn0RORf+OqT2p+UOWTn03aw+uvz+cwxc\n",
              "wocM95gB1f1dAbpLGrrmEldRZQTN5i+cVUAyYnD3Fs4OHdxwO3glkPtgd0M6zYOoJpMkA7lW9sAQ\n",
              "aFwNvw+l7/+FprQInsu6EWKhpQMQ05iEUZh67wsKoQn0kMWOq2Sd6ao1gxWQ9wI1udlGbLreMzTy\n",
              "68/gDrcNROZ1JbVgnXcFZqVNKBjCZetjpR/hawMlaHygyBJ5neEkDpcwx3CVR0fltNTE8uwUvuZg\n",
              "c2R0nzry3M00I9gjCa1VVrlUcIAqko5XE/zPA3XVBWe0ZcpKBvyMtNcKznJqW5rbg9DIiUkxQx4C\n",
              "7z1mcwe2gzBufgdTPyn+VKctu8PGcprcu8wpYbYPvsPfaMHmwU/D+9vKKWnnaOMvacH+TU5mcwd1\n",
              "jdMk+COLNBeNwA5WDWqy1HVdo/8Z3VH7Dv+vqRRbiiJlBPk3xct6X6vlTUqJtGEE8CaLDzhg6FAZ\n",
              "oKn4W6myNRydsCRaWYPVMbl5PFPD/31lddPVB75pjcWmpYUjs1R9uuI/StMXBkdmrjzOEaw/igtj\n",
              "hiV5OPTYAJZbPpKAMkpLDwUKv96oq02lNJcyxxkV2xGQScy+cSM6M/gcjzrkeEGVoeBwnD9hHykQ\n",
              "9f1j3oITaFrGH5zK4LLzumXwSksXF/SJVYYka4kvw2GFvmeRwYPcaj+L+br24rq/OPt0Dkrzdy2X\n",
              "684SjKi1kYz8eKqrWU6mq+7XXuB/H6nnHJsKvW6/xvT4j4mMZO7POBsw9IEfULDaPrvH9cvlYD+g\n",
              "g4iTunbo0fQa+p338h8Rk0/Mf5BbjScY8MScavW4cC6+nBIJfDxFS4JNc8m2/zXPuItnrh3aNvA6\n",
              "lJm8U/ymrJ2/rUqHNcRlZ02M5FOjvsA6418/RajzJpZu7JxvO2Gi0oQD8R2Ag1Yu6xoqwvd/hnU8\n",
              "kR8osH+0OSlW/QZ/gITB3yqQv4upHLB2+haK/rCE5aGcsOdfuw7JPHVbgQVtj7hgySMjeZaXyDZF\n",
              "dz5UxcyC6ZeFFnzsdEkCIsgcKT4UsB1uwqvpXsa4tRNSdS9JhcFlJanV8q9nBVhIqsN3nO5dOZMA\n",
              "qKOBqiOVvhyqRRrGNLMUZeBQ/sqw3LWGvhyCW82F3qJPKVqngPqY9FL1a4Hv5Y+s24hFO06oAKYX\n",
              "aLBG6gRV+pLUP8EJaibAYDbRB4WQzVYdwvQd60mOfvmwJd3MbledeppM9OXk0LD628TjpeIoA8RC\n",
              "0r+1UTc9/gqzGudSR1AwBQaX8WbjqjnQhOCuMZTH+qnlRiPIGTc4cKNCVe6NM/3oYrF0yE0mMB15\n",
              "fZvqjeJ/geBD2F3xu8sxZHtNWKjmsg85vKUjjODiEuAls7Uy0ihJz3aDQ8d0RzA9LlHnlN0oAZFW\n",
              "WRf6E7gnLGSoXNm/ZuuvESfEJEPwAI44v/wPkK9GxKsa0pdevnmom+C+6jc7JcpF0R/efUha+hbT\n",
              "FnnQOvf3Hgccr0zvwUAU6Doc5XNPDRsTr0BYN4IU0vIa4bDgUc4j+dp2yNhj9tCS2qmv7rSuX5O3\n",
              "UNALseammfFgdyWzQpIVocMlTcUHchoZY2wDOiqPTDyuGF2x4U7BeWDIuQAzN34BpgGa6kALFoec\n",
              "xTfJeuoin2yzquOOi7IMZn/TBzU5QOmtAmD3QaHpH/DS9+DDrXdLh0YTbOnXqFAaoXR08iT8ZwMb\n",
              "gV8kR6bGjxiPzRDYCf80dZ1ufsCgKEhYDFAWcBODVNc0FhSI/nNkHtvqZLlggXjs6lvXrRipxwxq\n",
              "58WdGiGwVyqQ/Pn8jiDtcot2IjWLy1+RLaUv0ggJAjImVk0K+sZrG7hyqeTI2ALWzWLsKDEO3pmr\n",
              "a7svLdh+s42WaJdQ868e8nDpbELq6K6nsX99wDiOQqHlrmIxl4znq6KXwg0Iel8O3bKEcH2V5d3S\n",
              "aT6RCbOl0EZEz+nK7CsyrroswGPNQ6KD0P5oRVQIHHRzA4NA3IzmKbApSuhs05CoctPT7W2LrJHe\n",
              "iVDMpxeWe805UlULOu8h5Kw3Aiu67aJ5NxAc2K3o4OgARohVCUBPgCtmAKnMAHrGyMxPU64B+3/i\n",
              "n1UoiiYkFkHWqcStddKQCWNHonbuFJWPR5HDe5ptr6rlB6nR8tAiszeuOgBLPC0qCHRGL0xETYbW\n",
              "uV0t4GZogD3TNUVdJ09VkFrJiY5kE8bfwqwvlcYjVz+mEMLt5iC3+qfAP5thvOZu4f4dcO+AEAVY\n",
              "EcYd+T0hYvCLV3my1dqeOoR3yVMdLBGWIMhDn+iZefuhFht1JZIQ1oJ58rrgRNyAZJeU5EgGxtUI\n",
              "AMOGkpH65oXqBDsvN/gPYh6mxMhmXLwn7BtAaC9m2Ax+3GrdCrwMqdI9agh8JQBi+rJ/Vno8mSiz\n",
              "ZB5NDHjAdq0Dw2JupVG5hGEQnujUDy5iIzLrR1Avazokgs4es8Ar5hV5QXOt4YQeM9kbvs9u5KiW\n",
              "/lIg++Pt9sIXjCmQ24BWcr1a+Buv2lrKzcTJRYcTmjVz6nP8pEJYB05og+yfNfuw4jG1/2t2zXqQ\n",
              "zbxo7huuW0IRStmGEHhJVOtaECsb2PW0XPxJfDDIwfJ6OOgpN+bk0IOZ1JmrzSMnZO7BXPawJQhu\n",
              "0u9GPYuD04RUaMhpMxPaDENfF6MgTZKlC5N0qewfyBwFI5AqluIsFdsMwmrcJhZh1bSgtLBrwPlQ\n",
              "P6iF8mRjeWETRx8gFjAv9ILpI6FMsPGT6taggjQcpJlytYx89ioYt78UJvfuqOibpDhaJSLDERtX\n",
              "ci41G2V9tp+tB3UGsfWVAxR72+luHw9p+Ss0VcIDRIqF0Qp3uHcO9HrwCG85B5jkytMFN76W/DgV\n",
              "MiD71P5F3LU7MD9ZLXCrCCO27zPKYIgfEXg0hYuU0tOCexNp4Dhl4MCdW5Ci+gOD1JV1d8uQF1DQ\n",
              "IbN78x1qWeDfh1S8P6EmOamg74wof+XS4ngwzStrHuLbiIZhsUX4MpBA4r3sE0oZGy1aHk2/tZj4\n",
              "z2PQHjO3Qw6qJt5t4wAOLx6MaVppwMehJU9J4wtHRHCzezgUdwhF680YkEE4pzQevysX79FnwDvt\n",
              "gGjHtmATvXKoM0WKCJyhlK9x++Xm2D+/vTOsHjND8QmcsMZ9T7X8Zq5/XUkABouPyAZxIz9k+/CM\n",
              "ytr+pJqHJM/Ku08ZkokxQ5gSeVuuGb+AQp0WA9R58rLMw8YMV8o6ijC2B27Uf1OjwZgjABf8tvt3\n",
              "VQtnvE1NlV+HQ3AMZrEvmbqb7qJ2PgkKdy6trV2HurdN/vBGapBc2EgSJO6w9DJ9GNALNgikjaQa\n",
              "0G7ar2k11SOP4aI/7nZYEcMY2kFjRFxPGajNHLKuqM1Eqy5bVVJWu6tqThcxJHVGYd9+VPWZBb+e\n",
              "ghb3yELoBYdkCdKAQjB23/pZlW7wKwq5J5HS04c7+pmve3LFWJE1rpIg/8sacc+aWMCPVEVIcGYT\n",
              "7PG39lDT+7eyIwJSwWdYuXR9aWKxzr/t65SZYts9QYDrNqamxv1xdrpuDNyA8Ufc2QTxvYc43hi2\n",
              "9ZWGC00mD5sSuxKU/U8Z10DfKbRhwd1Ikg5z+fdZEpYcs/M6XjSShW0GFfpe2LSpXkeL5slnovHM\n",
              "pesHm34pZSBKay1hmBCaF+cl3x9vrFk7Wqq1fPmXmU6zDyxc4GI4oSpJM4/LcIlD5k/nNzp4Dv1q\n",
              "wKl6R8+kDqoT/mw0yRPQ4MCLRNz5RylfAL7g4MUk/Njd2+FVnj4ySV5Q0CLBclFR+Ut9iT9ra/8+\n",
              "1SWT/4q2WAhkS2c9VrO1EEGHA93FQjbglh+7WsHJSJM81DvmRJacjSzgkt14T/rXPIgUsuvVKXXi\n",
              "9s2M+GZbjT37YGs8qH5Rs8816w2rMAVDZ8NDiCiWBvJp8aw1l/liB+EqalycmXm0ILCe1eXeNRK9\n",
              "rO8OioTFioZS98s2LGUNxT2cwYMQthUnC2M7o1NqYcJM7o5TJN84CeXWhWwKnS7BUrW6U/KnFScs\n",
              "uY6Vj3C4wp34I5ZHel3Rkqkws74j13G28kxN9Ds2olFw6VZhPeY17yaM3zRwmwYhRkitxBpiTyxr\n",
              "BSXQiDyp1DmHtO8/RUFblkIjlxYWQKwH7WbvulwTdeZtRSFeIuuID75bbXIN5iKqLfwbtVpCLHqW\n",
              "AjJwcFyeBvub1PIvufpfWoPidFdq6j71EOWLF8BiClyj5oEuej23DCfSrXvOtpmm3fJHJRd1swqV\n",
              "trELabTLWqqaPnYBik96XNKpFjVJ3MGWR35FaLNxwh5zspwpAF0a7823Wjd6U3TYH58mKFeNQlCU\n",
              "20lRZnqRCpNISu8J4D/CCAF5CzKHaUVmouZAktJxfvU4Yr/r9LgXuvFkqITrHD/3m+nhEWB0WvQR\n",
              "zeeXbkQMO7R8vB1Sym13oQD5nlwTt3pBTDrvQJLHDMkEz5p8nn2ozEqyjG8tAKkcVY6Y2p3PTLcz\n",
              "p0dmznG6jx81iPNwUrSVm6g2jyTjKjilbZp/pmCrtqm7rveexyNXtVsZxkPalZ4DeUvzXC8d0m8z\n",
              "URQlkW/ljJoXrY6HmSbe2/bdqHFl09sjN+c0Z9isxBYYM/c/lAwxgQSHVUcjpCkMvjWW2JvVYKZB\n",
              "dUNDdRc5+RtffKWjJZxPXQ/iA9QcD9KgwvzSZ9AOLWOvYc5wR+/vrc6VJ+cT30YUE82N0d+F3OPZ\n",
              "qOLkf3VTmA+VvVPjuCBjZZe4p2oRxYb8Bv+acYQurav4fN6HBKgh4Ird22r+KaAiMxSz28mz0m6/\n",
              "JKx5GdTmn2KMd5gUpF3pKRj2CER3vENWVf5Va+kAOj7XF0pdM7wcpSq+9qn7EIHH1zYGdSwxsd2n\n",
              "mIQSlZByZzWEOygbNVJBHZVQJpKB1/QxHcqs2/8HnNt7/eXxezq0X8Ks/Hkd0ezjXV7vUyhm04kn\n",
              "/+JQZCyPY5/L+gWzSp8N6AwUaxNOOsttFFzN2bzPP8yBXOgPTlR+mzSrZn0vhBPusrJpB34IQXqb\n",
              "PTQ107T6Fe2XMjxEx0LqlWRnjmpmR2wwLWAiJ0nBm1aEJwDJYJtaGHBF6iuC8YfZMOlOcsf4AuvB\n",
              "yod2jt4ksNFTC52J7T7/VERxQvyNzdIQIvQueEJNM4iVuqOSiOV61ueYMq2oDCqRJdH86z97hsIO\n",
              "2/nOCnd6tZbYD537oFH9CkZ69S0NFUle5nJJyImao5HmSzSSydKCGecXS4l/yrfuV3UHsaxv9OWg\n",
              "nAfCniSpQECz+tVg/Ld6A06q1lU+TnIC8MWf+BBznQEDK+qydnKjAuu3AYM1/2GYOeFg/THiDXRa\n",
              "FPwBdyks0Y6qIQ9GoS0QNsny9fIo+UtZW5h4TX4NrrJTTyIJE1MQdwHEtP+pw25cAGbYgAh6hV9+\n",
              "EjDXd4MvkhsUluchV9+FySgCsn0F4QvyeItnjIt4UWq/SLZEKjUvGEoBF97lZfaf17HojwZB2HLH\n",
              "8DDBiCelVLVjrVR5qPZ6uoOX/y067fvlBTIN6DxWQ5d0vQSrFji8h1/2B9+rp5tSuilGeJaGycZe\n",
              "1Yxiai/9dGLnxpIO6jJiyfSGeDjdzbKgy7NSeNarTCxAPSSR+0DdPtFykszqqzjo1NyBwq6gW36S\n",
              "Yqt6bbrFMY/W+SD2pGxTep5sn/q8+2eD7uPBFbII6jRtKcBXt7R6IkYXEdiWUf5k8JHYkDB2PjOj\n",
              "9Rcb4ZHUsA+msd3hAChYClbCr2h1MJ6Fx/s8rSnhBGl2BOBmsuvSAz/sn9i+n6mAT2fX850eXe3b\n",
              "jjFdaNYLSOAr3L9Vfv/mT7bCniQ2LLhsBolQ/YpGaSwyrl5XOx4o2aqwxsedr7BWKssErcEsf6VQ\n",
              "z6FXzyCMgOhkyM9p+FRcg0jNNpqxHyaQxm8TVqga6D/+poiq8FiYhkzPlSPO007wDPeafGezcvHq\n",
              "9LJEHu43j8RouMiIZqYWUxr3G9WePdJnfKJpEx3AqOWf5Ligj8liN2sG9g7Ft2rsahMig34IfkMq\n",
              "e3GPCzHkLCAvjfKOAA7GvZddFcCpjVfhFM/M3pP0pz0Q4iIU8fTSxsZ/6hE+YFRIhxhKzFstpPJV\n",
              "ep5tb71OxlTYWZp+i5MqnyWVyGE1cbGWuDDTESjBw//j9mazq/6/22n6yZ1efrc5UDFHvb6W4fDz\n",
              "xmPe+21/OtjKbXqFiBUYcQn713IiqWQWSaUInq2Ls5Q0EYXYuj2CV6Yvy88xVJN833hZCkegJiV9\n",
              "aHAV5e8dx12Y9L63ZytSLno6k782xvefW6k5jcUW2juDsPku6NVeT4VYapAv/Bo8UuD0veFVMWz0\n",
              "/TeXjiH+/pQwjXiO5LF0BFj/BRcYz2CF+c+mbzDUhx4MZ/7dmpmb75i9YN44WxMZWfygAKk0q8Wf\n",
              "lYLTmt88d5qNj9wlr5+lrukQ33qV6X+e2QxXBoUEGdfpV5/RIa22QSDy27ZSPXyPpUydxh/t+M1m\n",
              "vZ3QF6ikXTv+8NHuqn+li32KaF/cTYEnC1st1deQeeDlwaLt9Y4fDt4UINv9N15gEloVRvhVntbj\n",
              "7yMiVnlZHY4phYkmf1bV5fMoI86ITuEKaOf/cySsq4crZjK5jZOXXU1KJJjy22yw8QhjsqODUO+0\n",
              "lNwki2MEbNUfeOLgpVPFI4QQLKE14TvxYNY+Cp9n/hIzHy+1tGoBQ0fKqZO9iyaH68Waj5ATeprI\n",
              "WTenzTMS/tPPxjqgk4qb5an3JITorA5NAXMuyn9ewJmL4yF+1CbE8pnbK6aROkmokJqiIIHYDKy+\n",
              "k6dKZcmujEqSH/F48LjcEX1c27FpR93PdjcfF0LiLG4tgpDl3MpC9KqYtcgDgpjmYTwuQTT20p0Y\n",
              "LiaFm5uaSmKyKSbIPAnHTfXgZzVs5+fify6vnIp0rLHXuCxa/luuhpGYsLOGpSVeqYJ5ej6iV4jM\n",
              "7KbFVZqcV56bLQKQi+KHE/FoK6lHCnK2kumDQrw3yqN2Q/AXI+Qg6G/wu1Kr9D8JdzOj+aWqTn6A\n",
              "zfWBhsvztZIj0oGUPncWAxlHp3h6k3TtpCrCIA/F3Iw7W6kxcFY9+CYaW+VdWIM0Q1ZE6r1r7kVq\n",
              "xEmQr51N41qQNwgwbDYsIN/oTyNk4rBCurYFqG7YgarL7gAFXzH64MBoNnzygaikP1mqRyEkcWHr\n",
              "eKqMaz/9VtMWFu3lBBErE/qwBMeZilJVGrwvhq2R6Lp/f9QArHAhOQKWonjIxEBW/sOXSygLd/Y1\n",
              "6UPpi+/qgDTOXtZxWApG3gA9NrqKAWtv24zyYtkQ4wMBT5woL+YA+A+qbkGt6d45KmyDLAcAbBWU\n",
              "OMsqbzVhSq8AkB1j15MJCucmNWQpPX59jdnL7F7gRZf5G/blr/9sFswhuXWmftj9FChzu8Qy0hcP\n",
              "3EoZujM0poQKel1Y+9E9FkajVqva+OqKy14t0NE/iqK96nWj5AmTivpqBUtdQ/5I/eXH2imL/hnq\n",
              "5RpqqtX5U+thaXjNIrAmeZZ9OuK2Blkn87OZHou4iuhW+MZMHjY5tavIPYMm0TNlC44ZF8yW9Rtf\n",
              "TxrNzmEWRfSAMBoEa8XxmZTd8wB2qrAaIuUvajuBwUk7zl5DZoYvvEdvy6JAqmcVX0IRCfmaQAdz\n",
              "IQkTNsDGDSuBI3EUuj4DFjCyhA6m3ZvKMuBOmLF6l8w8iY8dgUuuULdOw1G6NMCOlz43zRFJOdcp\n",
              "IGPbWCsPt8aTAgyMDnc2tY2qAtmalPJjSbs5kZdxLA2JHnSuJQwzAmP7bpPU5mkylvtshGVun6/P\n",
              "p6xVNNk92fFe35V0vloGa/KY5bBh+7V5odFwrX5b5KWiV8PnjC166VThoNSsm6RMI2o4OpCaLNhT\n",
              "WsiKbjcyzxujLNldp6WZCDlk8X5mvy+FrW381nLcFW9zZBh4uOfbQKN31VHYZkdYC8oACjOzO/Y9\n",
              "6+tT25kYSfWU47ImLKS3RmjVmPqmDwUtH2Bfp34PSkDL5213pBx63Xe9O1jBu9vvoEgMLhSjRQFh\n",
              "xoZlNGyUhDMQJ3L3j7OYWCMsQ1gqaxXkUodnmVGI9LX5OyNlfDxH7Xb8taCoDQJ/cOasEt4HFhSJ\n",
              "zB1pKetFBH9TYm/96oLzw4gEhmHb/+4ZZv3N6lBoxpMMjqD8qwQ/rkmcGDDxPcy537f8cu6aNtvZ\n",
              "PD2uvPcwmUZP0LRCaAon4nSRz1COHHzbXSQTHAR3GsO9pjCjmjluaxQ5oJpwDsyg0Z4mbJC0Mv67\n",
              "039YqiLHZOI4MG6XNWxZHJkJ7O7T1vhz7E9KSmihFpL9Qnz9EPSUZe4J3iDP+yyGJZE8NY+1KSn5\n",
              "GLLmQhNYvYfjtvK4P85E0dGO5xDMuwv7vC0uyw6NjUx3PDPZkuMGIBCffzqjjiklZhkwXRzDs0x2\n",
              "PyCnoWlQbcBCm3gOtSVV/MagRYiMd6tpANY9Z/DRCEyL0aHFyzuxPHkaCehchbVQA/pE1zI95rmw\n",
              "ItROvyIyYEXJP9HDJXt/3rL2MuiwTcyzpqxlkaqeGOwDMTH8YiAdIrMf5osQ5Utndk3fZ0geHWw6\n",
              "cZughAdLko+6CbqJJzsHw5MmSneu2/0AcDQeA6IdMoX7b7RJOmG0Rv1OfcM2yW2x0j12RUu1OMqF\n",
              "t3oMpYE/UNLYdjY0B3doOa/yYopBpwuEmPxstIQbA+2aSQ6Cakw8S6X2yREzHAgUujRAcnprstWz\n",
              "XidNxKNUj5SKx9ONJVeXabAsOgkZ0IO0C/J4UeS1tM2mxbdg+oHksOok3y/Ff6utJLJZeDRXdBHd\n",
              "m6YPEfn6KdIuMjQA3wshup263+C6tlBFtya66HQQT6BeAZqNVPr0XXEn7oT0jWoaorOsUnzK84rs\n",
              "bW64jCBjUXm01unyfQkgpL/WVhSptxZRNT5o0U64JIFpNr0nWjv4P/6F8Y5pysVLWn1Fwut/m/kh\n",
              "XsiOqgGnD/68C5eJBXSUpSJrxMF3X2oBapsJQNPhZDeETuoRrLzGuMiP55D5QTFBykWPdPsRmMJx\n",
              "P4eVa5B7xTeaFJWMOZQwWXHHpHJ5Iau9Us+qr0tQV+c/MoXfmmCSrAb98rKvel4rFk8iC/wIArNd\n",
              "C2ymhEDz9CvchwxAQ7UHsBWmBgPcSm7cQppILt6gpQOAAewmwSrkJM6FjHcMhZb9WzH5AeQuoeND\n",
              "bnbeH63arQo3f8hkPCxkDuKj9iHPqp+2FJaRiEvj5dJrNIqGGNWpRM2k3v2YSZmCGJZ72QlgrkK/\n",
              "Tl6bz9PC877gV9SGAipmcc2hJfqDRBiidQ9toO2ifRoq5F7ufxHALvbavsG2YfsnaZtvi8loVtik\n",
              "8nE9JTl8uJRHF//lr/vVLP5DrG2EmlETpj4SrRnlvxEmy6QL7AGc4uz7HWmCk46LHLVJTUIb10B/\n",
              "Pw1F+0206ceE5sggH4n/rOMrwoKfT2Kiq58QhJNAs0FGBLmcBm47eHgxn69j2M2jemX4UGweCW9B\n",
              "oGlZk2T4cPhT1bKAd3su/auPFI9ayOPCu9CwI/9RZ3grFPWxPRWrMw6sLyxaq5sSICs/9CwpU4eG\n",
              "pj+/G2jvs66J21/qI2q6EJZmaymww6FKBSbPIMNq/q3n2HWhpAy9svUqkEW261XRj1EEF3usmfbM\n",
              "BaCc1VhFtnu8I+vxYZnZ8g2NDv4yz4vRYtClMV4VZg/kNWoIMFL4g/pzJ5kwzqbGXg4BfB0d9WSY\n",
              "4mSCmQC2+1Pg7Cjcbj7zuC7Lt2rFByET6N6Sq84g0QD9nsi67ktNYQJdfKahpr515UvDpQssEk6H\n",
              "cJYHbo49awDsoIi+TWoHiRHW/DYpwOO0W6UmEdcEd3F/ZekCCzQCOfJbO3iXRdW7+V3kuSncHE0z\n",
              "6sli8tG20V+mXFjcUEbX9ndgOV5HgRcxj2RgM3uk6eE7TURof8t65AspoOqQAR+0OjnJU1Hus+BM\n",
              "IwoGJX2xRYXRf+KupMWLYEHzlilcnheqQaVlVGLzZ6bx+TJZHSZ8s4Es5bFqjKQNrQfULep+S+8a\n",
              "FpQOaCYhPvelK2JPRPHKSeZ0dneBLN4tMgRLB21GqurfmlbRNaTb6QygJ/aZEsGsGLZieFi2LKej\n",
              "uKqFin9hAlgmZBOy0lvUmB9Kq6qujCWW/hGF0RG9K5fho9a3J2LyXn0gRvGDca9Bs62caXY8f9yL\n",
              "AkmWtTEilpS4upVvNumwIiERLNtNiqAiA/AAZz6TahNl9A7EnTUvGP+N8w7nnfLTjGIKOxDLUXET\n",
              "j3hVMnV07c9iZ4Vnkm/qulB0cIK991cJzSHcm7rFtOTR8y15QPBkDB7T2xbJ7ZEOnIPoMKJJwJpc\n",
              "SZi9uUY45X8B40R9vgBVaY+71/EBBW8FO39azQnc+O38WSIHJI1c6/+M5/7d1psopK4UPHFzgVll\n",
              "NSTJ68ylUc545HcxYcW5+L5JYkJ1Vj2Shm59OaB+nSxUN6+m28vLRvSxDsGTD2OKUHqoOvaR5qRK\n",
              "2nKUjAbq7Q9ytAMEFPREu+kt+hLwbaMflkwf9JRHVtfrIvDfk/bXQB2YB+5MoKor0jZ3n0EibnFO\n",
              "IW8BNeiWmPSxzaSKbbJf7Imx7pGDd1uiFHLNH5CuFjL9jjK5kkehUKQ0MVab+hEPH/XTYtbSSz4A\n",
              "H1dh4ecgfGelkAcwP9If5WmQdAD7W/6pVDXyypoOtlk51K4tSjIMJ/694x2+MoV4aXr81/TaW+ds\n",
              "VmSN7isGyDNJhnpziyeKdnJTjB+gZDFcQiQ832RdOnmLRDnxH3FyA2q2aih3Q2VE7SlO2PWraXdU\n",
              "i2nALDO6/pD+zuD4ZPQDUhjesbT41tqqGKy//afaLJLNvKTHD6ou2dOnyyGBpoXIPu9h3hp2kofy\n",
              "zXmv/ACQUgpdj74BWGM/MBVNIwRzJdwZAGe0YOd/33CLSQU1e+IUN0jWlKomzK0bOxHJSd1Qb6lO\n",
              "4Pl7rtE1SNLXb3GSLSRlr2lwTpuvuwFa+s8e9SIf6BLLDlFxBvuL1wKZDoasKD41F1AVNVlwFiEy\n",
              "LZnTPMsOs2FZJcfli+W1X41sIi6eBYOOuOK9Usgdy9tn8slZT4QTVmPZ2fABKwW3fLCXEMIwtiBM\n",
              "gPh4QBJLXpD4NmkbndLb6fIz7N1d12uSqHA4/ZuplstZTaZy9G9H5zRN3duXZppV64YUqP+41AlK\n",
              "69889FR29Hx9zOg0ygPz+mQPmyJyqoSLMNPj5q8p92Idgx/xQ2gv1RyBjD2P2gepFsSW7E3xNXNA\n",
              "+7NYyf++Vz0TMoPhHk/E7F5Bxj/jYt8lt/x7+t39wWzFU/Z8paoabY+z2tRn/83L8gE+7MwI9iXS\n",
              "MO8t8E6EIkyGKJtUSUq8Ysi8lht0gZnSnG258BKCL10nLLQoftYVSnHhi8bpJ7wu4oWrT/vvLGxp\n",
              "z4jKDVKAHTTy44B3ZQ83b3+lbdNBEiobUoLUbooVZT1oBp6OqQEe5GNLMoE1zayftpZ229rotlDb\n",
              "GM7ehU3eYwVRZeie/NBuihwNDsifLsq9rBb8eGQDaWj/+xW4TmlCw53SyVCmueAqE3RHUpQKgRVZ\n",
              "LQx4JReh5pr4MVPuf/augzTCQAaKWJDZPxQkQ9QLxHmdfR2iQSD8/9PB6+rAXWYrFCAUDvWP2v7n\n",
              "ZpQlnJgJQPUJGPNnYne/JxfVX6ASZVGA4UDa0yXpBjETmvkShQvOm0izlRcEyPoiAwUm29/50Spo\n",
              "AQO3agSIlmdBiIwz6bZ1m9vsgqMGbRB2H5Bc+lXglLVcRf+A05JoN2dYEVXZ+P28QlhtHzxUWfpE\n",
              "N29H9aTli6/tm6e58KQeepmBY4/s4Ki2+st8thkqOYXbES2qsa/Bv6nOvPRQPMYlyCSDr2/TYhSq\n",
              "zv3jhiwvzRwAx9ZfaKLD+b4a/w/hU9OWlyVegG7UX50zYzKAUV2bU690qijLkt/cYSp6WExugtHY\n",
              "Yfr0adqic3KdO/d8j+/Bo9cerqMlBdHQsNi5LP/fe2sZC3LVxaka51sX6eztnQW5RBLyKcuFF2+o\n",
              "oKuJYRT4fx+DebH7vBKaeOZAL6b1/25vIF6HJEwskdt9+JqyP8rWpEp4ol2FHlY3e0x65uzi+hdU\n",
              "iUBms79q4QjjSdckKrbLjaMmuuH0vihw8qL3uGA3f5ARlSMJzlLQ4ND8K2FklDZWJrLU5K3n7ArX\n",
              "KxyQ/yg9T1gJ1nirMi7YT5N0+jGDK60AvokfQe0V2vvbzq3T8h0OQ4vhd7ksSkgQSPuO/Q2jcWij\n",
              "GRmUDOcPKk/xsLILF8ABCeD4jSCqDNT7gekey2klgCAvo4dL4mO5i/uUpfiTXe1+BkFwQeXwyZFo\n",
              "pf0XvAXvcjhxwoNhkWKvJLtm/UeeIn/irIhIF98XvQcR/FdNnDd+HUkjuqZBnjFVIs/Pc1L6Cznk\n",
              "11VTTWmlNn7TPxx1JHNoRLu65L7uELXFFIrUWVPxJUwCuaHEY7O053yFlbZP+yKH1pbCEtJP8m+0\n",
              "M7KSaSTaKub1Xz6D5pNuUp02VcwkIQLwUkoApElYJGFMLyGQKPoArc+7hbGVOc3wmk+gfwYhrVww\n",
              "d66foVXmkrn5phL+IDdlm5Q0bIwd+Q319U0aKEm7o0OfdbNVCgEezE4Wn+eogtj2FXPf0QcxkwWZ\n",
              "EIrqlcn0J48HocDMaeCAOCsoCdA9NPN1BDUj/EIbalgALC2fL8fwY1b9seJajnu6Kcwyu8F2rbGn\n",
              "/4QQt/nhtid7si5bzjip/NxdBtoclzqzO6jM63vD54msK5V94wnx4+/GU1RsZefu0Beos3eW3euh\n",
              "r8BQm2TyycmV8J+YHsG/NgGsDBmJOZlg/4LAcuzaA7JqQ5R6staSlwZG8O+3SoeiEAwE9Wzk5WHU\n",
              "oF5zLtspKF10+heVhUkx6t3xmp2ThfRx2pJIkWYeQ1CRUAizMGS9H62APjfDRR4qRdyoPGZq7wwq\n",
              "Fdd+g88thXGRQBUVjKUzbxgYic08bCFqOTbfzL8XYbW2TDiS+0vniXfDZeMAyf1MglrDkewbCIXR\n",
              "m2xOBonN7fxHFlLaxTlo8ab3gTUfrh3xOb6g+ENoBzO7tIdATi/ACvkQn3XwTpIJuWAq2U3u+Vnf\n",
              "nHKZyVGUBB9MXmvukDxNp5dWUO75uyyl2u1OFUylYMVJytOXvnjc+fPM5CxxLFwFfIaj/mb42vXn\n",
              "YuvvPIh35v2zeeaRYsQur2+iPl84S9foYFgywa2LIzQR//iDx3ZkiOAsUWIg5pvSDzZ1obmgAxee\n",
              "rqXK1ARpUeAMqc9kpPG7JdoSMVatTF//FRvYThNk/uX9Y8AaYlrW+EnluyUiw62x/EMY9fRM+sTF\n",
              "O8NurksxWrsClxC3CHHwEw6g9QBx8UexR8EknoM9uAb/qdZvldZP34bc74Iya5UeMYSXEXyIrkDd\n",
              "1DLd6DoezVHPTTHXveaJt/kUXS+xgkE9uIJTa9ezoKQHQYl/h7OH0Lw8luHYnIO2zKYUwcHdkD87\n",
              "E82lecfbcdHlHYHhnWc/wkEtyKGqnckjUom2gx0bp+HKpdAMpPwLmCp+aDZlbh4AS/4gwf8scC9t\n",
              "MlEgTP3FgLUlolNUGslNW18+i93zTTBo+u0/pNavIkflPAAArZobjJ0AAAwkSrSSaoxv6I22WU1Q\n",
              "hboARmBell90iiZpbcA2fvMhqVUyKKJyVScuCQN/9qScVeX9Sx0QX5Z657BR5KdGkeKrOHd4cHkT\n",
              "t2ZZ00Py8xtdPDTiTPl8+ElYm9362jNi6lQsO/OlSLqSPvu5qiRgf+6F+JUpn+NPw4+foDHR/0Qb\n",
              "xvwWSuDUHDsPFEuDeV4MvQE3CCkS51QGQfRAqC8/quD6/iMiO8haJGA+/RUkgETj59XkAbkkkiUg\n",
              "Rheh6b8K+w8UoEBE+XjlwJPmctFqFGeeoMI5qBRT1KbETcGK+o5OYrUUhfAOf6GxbQDqaUATH9b/\n",
              "P6UWAOZ+Lsf5EzA9ll67I6c+L7wUCVgza04jcgei5lFZ5pDQt5DFBObcCpnFafg/UNSAuuHLgmPb\n",
              "6uXdMjJN0r3x2uW0htgFf+ATSwGWfUDnpBmr/L9Wrlz6/V20n3TkMK7+kSQAOuTy3ry5iNsaQ1RX\n",
              "5ZJuo3Jz4+EJWN4N//POVwgXgp5qCoKffnM8uOFnnaF4Izwn3Zn0+AJGj/PEXjOGAFRJGNtIebFt\n",
              "f1lgZzBnade7HW0/Y43HwiXLxXg1zjOPI4t+qID8+GM4FMSXsHwIMvGiT3Wc89RME5sV4lPZvLEh\n",
              "kPr2cbkDJe4Jzha0w9i2mOId2yqQdpYWa6Wr16ob9nm/w6ykAV/MRPMYybHNqA4LK6gH1xXwmg4i\n",
              "6k7qrVzN5f2lX0SWqwyAvjyQpD0SZVVhabAjr0K+YsheVehWZfcRiGlZxtHqJu0WBxsbTsiDRMUm\n",
              "e1lHV+4FzZksUnvfLJpBoUS0JbPFItW2ZKeChYDHhZQZNe24APN2xrmN7oDVFw6LN1boaePUCKx3\n",
              "QI/H58JTu4L58VXmzHv89HX3+p6vgD+XzNIXlSwazUyjuJNo8lmm34NsMRimvgs76eMOiiKNPKK/\n",
              "+UKUE54YJjqrrb+KJD+MeT0ogKiXWzsJulIzNVzekZRgQfMRjb50vrAwHEGlb5k9Wa6+v/xWDzCm\n",
              "lD7w7fIgqJoY9rfv++NGayRcXrmRg/4XaGhsrOOYvHexYeYj0XUvUqV2t0r7VuYlXb6/LFv5MCNA\n",
              "25UeuVpEvGxmKvVCcIGEBdanemB3GulTvqsGwcNEh6sf7UCrxo0A36VLN8wyQx8JX5IKkiOaX+dS\n",
              "EIhW9oElcJRvpjcD1S0LAzVQXECXVsQQIjTUsFmkTF/TaTYXTK7uXmZe8TISU6rwiuKKfPOTeQZp\n",
              "k6xXFMGIE/PRvzp9OJ6yxengxh1Wfq+yOzv4yjxDUdf7OkT1mk+hjUMtEcajf46puJmb0E2NsP69\n",
              "W7STPWJf8dZ+yN4MzFtW7Y5mJbdLXICr7RrPkx4wpKWlZDDY91U9Ier/9EhNYOuxlL8ewvrDte4/\n",
              "y0JPVLhgP2kKgBXuFQg4dNyCDlzLnbCYFNtcxt84JqwLbIiLObpEnP+PphYFGf9wYO7ONnhl5XpT\n",
              "I7oHxgCKJiGkud+sMd1IiUzhPT+FXwcn2RVvi1PqefhlNY79fRCUgGajrfWjD8vJt7X0SL34QWC1\n",
              "vcrELTctyVO6evJsJfxXVaCSvZvi6JYOEzd/ft9TMaw+mUadf/iM0p743bxumsfAECwE5bmyMKGH\n",
              "Tuf9UcNnQvMVvo9VGiYaFoJGKjQ1itIfV/5XHoL/m5A+g/mPAvuavRUnrcqHvDOfYxhLZ6VBFfZ4\n",
              "ks++92XTo9VvUAdlMQe/TB90WJWt7sSoi7yz+zlNpdCp15K9mwkAIqlrYfeX9oLu0ugDT/2swn57\n",
              "4uN3P3zxG6FwCoFm2hl54ZBSWLi84EuAbM0H5d+r71HGUXpgeT6mfzrd9bm/r80blsVCisVadUm0\n",
              "cp9RaD8HJvb4wRa08+xd14Wjik1btcpsEZS9XA0vW33ZAmE+cRugj0w4rrCmeyjc6Q1tBwfwF696\n",
              "we8mDzsqjNrGyLh0uWiGneO9DqOBTePpxLjKKH3sJBnIx5rR+RYfIF+T0Bm9sMmh4Bu8hpNmEpMk\n",
              "FafTfHsUEUg0w7hEeNGCj7vRtr5F5i26nY9QWLee7p8TxV+sv7TsZruUTccPyz8Zm8PWOOeSUGkJ\n",
              "fxXt0w6HKNu+CIrtQNsvMtvdMud4GDyHSj/3sTlrgQQNF46amRalH9iogHXi84S2yHJsRNZx/xdv\n",
              "lqPjhfFiuQ4FUjqxU2CnG7G4iSyGl6zkkW/sc0yWjUFlq3LXdYd6ZIhjCe0lA2zfonX/xObucIeD\n",
              "yaN8y20gCCjxE+DdKjxP0GlwI8WeRbjcN7B+tz09tODXwxrvFgAmMQDJrPsCwZ5NmCFSfxxHlo9c\n",
              "63RZ66plh4lxiFplqe3A6kytvWrxSrlofsV6+/pO4sFtHerBU/abEpitNjEZ10DxRzSMXcY963om\n",
              "QngDSh8pn2imVGrHSOL/r7gT4ef/ws6JGtf4w1iAb9jbnzgj6ly9epr1IMXHUzHe+m3/F6wfcub5\n",
              "7RgtUJQfIte9JKPp3jFhXrRmBYsytaV4t3lfANHXI+Kp65cSIUPhWbqyh5jLJhESpCfc2JEw0IWT\n",
              "49MPwtq+1GqVVKWt5A8wsbv3QBz0oHyByob11kVijDlXZ9lfckFxkC+FFRSjTuBa3qU0RukGZPs+\n",
              "w4ys91wX5LeCWS5YvKM/r93de1nfNmy4vTPIiwyOeyHd3tIGge2fSDzTkDVHK5IqWWmGi1IYMeLY\n",
              "4LmZfKQDcfO20obGm1Ky47XoaXUwwgsryDueNRVIWhs/b8oyEgoPuMUBSlJSTH/Z5Y07MN3grZUe\n",
              "oAWVM2bKIhGhhNLGD4tzt2QDFCOGQk0cIhFRQA7t+EhS6Z0eJp/6PQ0+2VKEw2HrbbFFmDaAfEcC\n",
              "s8O9fwfuqy2P2EO0P7YSjVyg0Fh5tsuN/KY8IqH1KdexpiPC+vaXsrjnZuJGL/1otYTjiNWcJvMz\n",
              "VndVarjy/Ya2cn4a+gZOw0QfkXFzEB3xT3zqEtL7ZP3K/obdwD4EzkeTChYI8qswVGLYyf9cg0ih\n",
              "wIooNVzDwOo49Uk6c5yNRhL732TjcI+bcjYiWeaCSu7csBD6NhOISSx9rmtEmBCr6cImbC9hnJht\n",
              "qFXwZ3Tk2fDzo/99KEpwJQ/vY9ZjFD78BgDXwZPI5WlcRzbMmIuX+LRWfK+No/WQH7nnl6aCL3cW\n",
              "Fcpyw/T0DaH03dlJtYy/blc5yoXBAhJbGm+1oxK0kDepU5qGvFnaZHiP1rf6N+JftbqIT8x6leQO\n",
              "1SVJq3BIKsL5T1DofilUAre4NMCIlIUluIsgrfLKBfmNQBWjM4+BiyoDNZtsy6GtBAkFOAFqBk+G\n",
              "7KziBlxcn9awPPXCxFDQxRgZsvBlMKCYzF6+7Et8wNmFx1SsGZYc+QxBPPiMflaiK1h5JKMEH9TZ\n",
              "U7Hae9ehs5tgYtM9dHIuoI2BtQW4cwvUwEkFNN1HnmW2xLaPLpX0h8eW/hUDNjialef/WftAZLxW\n",
              "JBZpe+r6giG4V704rS63nDQq4e3UFqgKaX8EGmv5JesQM/dl+YGLVwGJqVxRZShyEtnQNzBuRAzI\n",
              "3F4Gtrpe9iTWrKOWMBrNQk56n8Fx5Z4mG7fxBuLI2H4If7o7Uey1Uu5rt63Zh3TGVgwl/pN8Eq67\n",
              "b5WXq2usmBKmWgDPg7ev1x2OUi5t7y33dQiYWlqhqRVWVmOtOPGqF/0RzE/4v/6N7VROo79Xk0n9\n",
              "BtpRxc9rjVzAW7Y4PCcgJCg7OJkH7stQXbhOYdHGsEekRaKuiwZxJ9NP3hLWDQUE5mSDdeT7GVB7\n",
              "zKocaUYfSGBC020G6mKhnm2N8G3fjCFNS7glThqTEJdGSllCg6Pya2I8/Jp7C39FGDWwmq45Jtkr\n",
              "HrMtxprB0LRJFT6RttN/8q/Y62zuLcyS4Dv2pBFmmYhn6sL4gqQMiP7fS3Z4UwWWFsqo6Qjvqnlx\n",
              "46U5DJo9RbOPG08hB2wrm8hpB5I7T98jkvrsEBGkhAKNrdayOpJWTEtqGPPdn1U9eS/IZtZw073q\n",
              "M0Pq9SRzGzf7nkUzIgvR6iJieb/nLXhRQH3U44y5WrWHgQkRrQ7JNUSPTJlJ3xp0ziZQhWx72f+i\n",
              "WBuOaDgB0d67scf9APM96YpVFfbwnZff8Ahp99qqcYCY2s7Hy+cYG9I15bV+zOmul28mYz2kO30r\n",
              "5/sOjBURmS71ZyGrXr027YZHiy2wAz4pW0tvn5ZGuLxpS6U3UXmKfYJfpg0jBLveeZ6cAHdu1zhu\n",
              "66psl4VsbNSsUeIt33609sPCxv+QeLfa9vydMt1/Mg7upwz3Oe8q86YQNwBWggE/wdJhJ3NUttPM\n",
              "j96vDW2bjJ1QuGjywkWY/mPJD+HNs5FIoAABswAAARBBmiNsQX/+2qZYASB2lNABO2zSunkSJX0T\n",
              "vT5AYannbwz1//73Rv6dddaZZZ4/HBjjWI7twjcHzjsua5SAAAA8/Lf6dM8sIviqRGr0RsnMHIF+\n",
              "kyv+rFH/6hPVg6Dq2430coKIsZug3O8IArRiJWQC6zyNofclvI12+fl2uChnqLMwzB+35VKzKzXx\n",
              "7kNBarfvSQR7vGyYtfmUXbyxlNRfRMASm7QwQdd1iRlZN0a3ePINKrH3A0tAABPfCy7fEr6xCrdA\n",
              "gKuPSy46pbLd1IUE+p+PLFQWfxF0BXp+H+ikkNiX/uscoJBFWmCJHedqIxxDJ6dhQnb75s/WqFqq\n",
              "2R//KnXvPa3UT0Qf2I9JimjpgAAAAM5BnkF4gr8AAMNTiumpyeuAAIiw8AK4ptn2ieSt5BzXR8uf\n",
              "w+e+AU2aJDMIJVxCeWSIKcGb/Yu3SoXTNKDvAn3JWrSGcc6w5snaQO49otgY4MPMyLec1rrOIgSP\n",
              "fbgKApQqvGHoEMUxKT/HfX4VuEXXWvA9pJ0e/EQUIdjnqbfcpGjmfdFDOGfScURsfxNWhNw79ivT\n",
              "s3PM0OPOqeN8mdfZMzxdtX2yTwgb9ngMrf7b0r7AddKLQLnL5d3lh4XmnsUVMT9TMcqR8EKjysOH\n",
              "wQAAAWkBnmJqQV8AAMHz3/mZqHwAAmnCYYLz+Hkh9QcxvuNJtO9zotg+QsqVRP8Rdo15ZVDXB7RB\n",
              "0H9g8uIdH2okSumfdV+Nb5iI0WxAA6ziIbhVP/+DZJBO2XcuGBSQeb0qp60WarazdVWF/NCIfEGH\n",
              "/G2mgaWdf6x8JO9/E8vhMllIkcwhQXT5K9YJ3pFTbzj0FZaxlh64lz7jqeYasX2z/g1bUuXNWC4b\n",
              "fABG16GvKu6XbtU203YpscuEJTfrCbN3A4VpN9beKePCE2H+OMjHRYr7jEy3EoCQ+/ZIQZtG6A2e\n",
              "uqC6E7wP2KV08xuuPR52akr65VjO2iggWFpXhOqXLR4XUZnEcvGNbztmiQxImdS9+knSyeY7gcYP\n",
              "ZaxetleO4ZJK2VFqSf52Ig2lwGEIAXqEVY9DkqB/NJAkNe3V9YZzlpdCysYYkKSJF3e3+L4f0OBj\n",
              "jJxMSC9LdmSXAKMb1/IpsEYMMw2J6Sm/AAAA0EGaZkmoQWiZTAgv//7aplgAAAMAG03wb0XjnCuJ\n",
              "AAS99UoPf4p64pp4eHD8PZ6o/PVMiJv+Mmk9o2fJRjDVWF0gg+9lkDLBrgSKB7i4oHJdJckP2oRQ\n",
              "ApJrU/ZeDwvhS/5Wgmsx1KS02CM4GAPGrPMhGzNuSdtJ1Z2eemksf4QNDacnl1F9r2nWojQMF8dr\n",
              "xXroAVWmRnXfe/zwKzSIfogRJQXiLenaBz1qwWup2jpLHusMTFekFqXrDXi4vpH3mHzt/LhCVgL5\n",
              "Hd1a/hGJKA0AAAFYQZ6ERREsFf8AAMH3+dhEACWoZxO7Ec329MIJ3tZnVcn3ITvBlNoBBQxvWdvF\n",
              "ROzHn1XNRbDyqZzR5wuzjfVmjup843HuB7mKtypEyxCTwW4Y0cSkUxNy/bP5ji18YRNwCZ+vnHd1\n",
              "RKWaCeF1XB6cLXjo6skmbwlA9lqYTgchby1GEasTtx+YWijGEpBrVNIynrbUeeuS2wTUPy9W3dDn\n",
              "PsVuqcE/ECz7q+Q+Qsc2oGnfaCw2AJZeGU6Sdx/zKinNh7sbkGy+Oh7U1F7SEm5RnEGdg1PN+2oy\n",
              "oCNPPBSl96wudXQN4mnyF/ZESO41Prmx7gDv+wKI8kcZ7wybsDMwATYu9+VVJTUaxgGjm2qTzRuz\n",
              "c/kOlTUAFmM6GnF1MRJBqtJKEkhLMxn3zgagJfxCvNF4cYZcUrJfYqsl/tQAQLoFltnKhhw6jRyx\n",
              "EFGf55dm68qu1fq0lvkAAAFOAZ6lakFfAADBpZ+yjUACdvUa07BYvDr2f6tWAsRyUOmZuYHjIS0a\n",
              "sWO9C0wsxxtOz3HiczM/rUYdG7dMOlyU1fnzM12jJn+LVlV8ZnnqLBFb13Nj9Z8+tOCslJaZR0Ve\n",
              "TThOxXj0XH88zXhDzIzaNpZ9hBRtgkB5w2mRnKm2QIYsSfcLQA1oh5SGZCyW+S0ux64HHGNdqYCX\n",
              "WCzDgLgGbVHJZynbNJAEcvCxVr6wwAHHANDgnX356m8G5etGYWVzqnhqGQ5hfj8xCSZe71xS2sko\n",
              "63Ggnqzuqqjg3s3+H/7ojUlpQ3DIllqzLH/K4HPNxr53p1IGZ7u547XXxj+6jhXnE/sY0t/OE9ZX\n",
              "ehZa9Qq3EUgzpfO9rkdgzBU/1pEUjAedkYNWvLQ3lxGjvkxtum7RqIA82vtHmkIxA+QxwBaVS4NO\n",
              "EHvpMRprn0XCtwAAAOtBmqpJqEFsmUwIL//+2qZYASBfBTQAXT6T3LUgky48rrwGXDiUrNk42ief\n",
              "yAAOj1D9QE+c4fiEywKaUY33T9t75F3JcLT8LgLOQSpSoN3nLzyf2MC0iNLcYrVmdrY7GxGtKBmX\n",
              "QkxWbIBYf7aeicmqb1COQeYXi9Yiui2p7NTt/L3l+cTzJne0jk239obOR24UPM0uvhsKMT+NjZ7f\n",
              "n5Czax/0dLpY873Z+AlVkOpXr6TCBJlHEgCJy0g8sHoEooqB06m9u3Jg/onZYIIT+MJkAaSLheRD\n",
              "n8NnpKqWUpAJ5p2v86e1nXcouE+BAAABX0GeyEUVLBb/AAB7qMK9/gAEnEsb2CPO5QVyv6XGs9Hk\n",
              "8ycgwnZzZYYsAHFnL/7w3SYHrVKL4h7nGvtz5sVDyTrPbKUew+00MIi9Xrv3BRdqUuyylRGXOZ3X\n",
              "d8Jlg4Wr1oe+dZZLT/sL/GZHZ5znLAM4WmM+Za42rsrHZ+bfrUG7oB5HGZtaxi/iXIjFMKbMDzeI\n",
              "F/oy2rULRheWKDOabD9T4veO1ryZU1dv7xWArL/y07TqUJWNtvNIz+rk+BNmAlYVc0cQIsW87PZ2\n",
              "bAjT/ENcfhRSNDy4wgEB2i8zaTpbtWMVHS0WGl1yB1WPmITb56Nx+XjLygdw5d8Kweccvmhu9bz6\n",
              "8xTPSuc1s+jAhQDYWCeyDsA8AqH5ODMg+uvMwUNSQB3axUoMNEcUWoTUwr2HDYV6E0fy+Hj1a0cl\n",
              "aZp1hsHGGn6w70NNAuUItKThYKP7vybZO0Gd0aFETjoCwAAAARoBnud0QV8AAMMHPUVnSPxAB7nr\n",
              "rfcVOqanYOfC4e9XANuP2oE4gObmq8E5FOUQnXGNMToQReW4wPRUyY5apTY8p/kgPIviEr7zTkqM\n",
              "SYEtIx3Dl+LqRS2Jh9fEbOUw70sYpihuTcTumhzXMag5+os7DcN/BXj7MnuVrocDnPKOIT3gmZ54\n",
              "o/7nrNf7HrvYRef3PBEq0pEfB5TSbG/3t7cjtT2ewZE5kSbDlM0veH+A+kmT0OGOCaVI7xqyjOHD\n",
              "Re3zyoK0WbsNYNPQ5ogjJPb7IDLWoH2VMglaH/DsRY5HE24UNy2bNhzVEokuBD937bgC5lYsQqHo\n",
              "utAkb/bcRTZJq9zA+KP+wk9sIffQ063eYZ8YeOdm7VpIDPgAAAFMAZ7pakFfAADDURRuGAE1qbS8\n",
              "Pc73V2brzklQjbvkCJGjjaB6T62hR/9Qi6ZB/Pyu21zDYix+cocg/ehw6N2sdl/TVXAZMzXaMmf3\n",
              "48goTXWQ3cloM0L6eQtyku1NJ+Fv0r9pqdYsikZ95o6uPskTbk7EvAH9PjByO+tATnGlY/QjbGDm\n",
              "zpC1SM48JXdVjphBPZFrQCgNpN3km8vW4bYoad+CiMulYAhTD+554a/zZq3fOa1ZnXd7B7EHD2il\n",
              "ra+XV3Y0kFP+OvA1/7v4IoQTuhMSzZ8hp0eQKqu9aLx3+JmmkVA4nx6RBFMWvPHQQUV7D081vIFC\n",
              "H/qAqAan1NmiQHm0HanGeDyI+B3DtyzzMubXm2NUx9lqkEQ14eCcOCljqDFr/4pKLQXcbBdNdcfU\n",
              "1UUXfb1vPmaTpiS/vHJwmHQmRkn3AbjpTvQlGWkAAAGpQZruSahBbJlMCC///tqmWAEgV+hZxj5i\n",
              "GAByFRShUhZlnrIK+mJa+4t9IWzrX9SuDyiGBxpwWggCFzS+AsbOUseRECp4zcPRVp+7TCtemglZ\n",
              "/70OXqzrJRcFwOZPsi81NROiBv4oR4kqRcAwoGAvFISF0XZeVmOJMD19EoFG47sexhQ+gvPrrr8g\n",
              "cAYOPLwlZ2dklY3hb+3iVXRBmyaG6NCjQZiiZ/gklxS1D8WhELKP7QnFmS45VNb8Pveq4HHrQtZP\n",
              "Fl0mg+aej9OQWyQyM9wascRIfnhEMoN1JAuIVOx0cf2rAAPfFVxKLIZo1KFaix5knKFJzinlZeSp\n",
              "KXJujYOyw4BBKa7LDK1UXRq9FPmS4kz2X9E4Um5OIoBGzSwPKbXQ8GjdHIFcLhny/yAaY4KM9UMd\n",
              "jg/qChX3857M1mc9cz+F7BpfifkHTR/fX4xyfO0l3Jy48NlymHWko66MWEMz+0G8gwzZGXgfE1sS\n",
              "kpG4hLOz+BTbVk19gExQo1tPFl0R+c0w9UUSsp9crhWDGa3uc9amoh5ScmgMgyIYcveVNXQwR+je\n",
              "tYAAAAFBQZ8MRRUsFv8AAHq6M2DQi3Wv1ABmdzFfyrzGIOCm17oTfeGw4iZvhLoQvKBvYdKVwgqY\n",
              "1XY5RA6URTE7p3VJfCLE1UVUmOWqU2PKf5e77VysVDfl63H48P/A3FPwrfh76rW1p1kWWZyQPN9t\n",
              "qMqVIbOeAKQcHCRBjlz4l6NiptZxi2ltvNhB56N9Py8EeZcyqbnt4WfynTQv/y5ppBG8mscn/S72\n",
              "yOohOoo+bd8n4lOzcvMFEXyM1qLK+PMX9hYUssZt+iX0Wbjd/K2b1cRPS4zOhZAj9Dz3VnwC5ymX\n",
              "hGIoHY+yPSIJZolUdHAeLkNmyfa3J7i98lFn/2lBQjVg3eAXdQmjCh13A58uHmtE8IodusthMPIS\n",
              "dQusYAC966AunNQkm6JI5vcw4spcXiexCp2MgLT2a2a/vTcHhaHYkqygAAABOgGfK3RBXwAAwzof\n",
              "NvsoAEOsbOatp6/rA/34OBQL2/3Ll24CMCxxT+gm7Sd9BZ5mVnoprrYFC2cGEu86pj4xrhzPoGtr\n",
              "J6RghTcDNmWVpFJHFqSaWNLuim3fcyfZX5j6dbL+pIPLnFmGzvQFGK4pw88VmTCFJmNwNeTYL/59\n",
              "BdUzmE2IPSNifh76U29+AYZcmuhUJyfcaogkp1ht6mQBNILHrTex4Ri1qC/ZSXk+MIt218ZtmLKY\n",
              "w95Ln3CvA9DS/YQz177ggCJ09Ziz/65/kXlH4uvir56x4o7UEEYeO6dM9DwkB0S/2Hh/gz3w7ztQ\n",
              "3GElnLXVt3IY8++ZTNpJK1yZHuUxlIy+6F4p4LBiiCngsfs7fQgd9Dh4rXjcYBGL0GrSBL3pyUiF\n",
              "35XbdJuEtqLmo/bXwpvCLTetAAABEgGfLWpBXwAAwfPf+NAp9QAaxmz2DrLoV0wvi7d8BhfFQqtn\n",
              "FeTEzieQt+GbR0++KVdj4PHDmsH6lshr4gkaLLohbCDWpo930glKtzVrkE8El3pWEF79k66eGWIe\n",
              "uV764gMBR7dHRMFNVXLuL/sNoJNCSjPhV+FiF/EXNml6Be+iWX6XW6WEdf495a86gl4H148yJuKa\n",
              "kI1QvSPRNJvEKOf8V4Wlk1acf3j3hcarKod6t1NZoIWQldLh3PpiRK2d2L5o7Inp4NN4wkLr2BaJ\n",
              "KIoHJtnKIE2kIstQQKhfDnlmcJ7ibEY0p2J/1vzbZPOn3dmRVJWn4CBq5jnnXIP49zQh2RHuX514\n",
              "b41aM+6RHBivUEEAAADDQZsySahBbJlMCC///tqmWAAAqnJf/pG4cPgAWklShbqqozfFa3IdwT7x\n",
              "NVKW36sj4j801NOpLHrLk/WAyiBe6B9nhmxtFWkNh2+P7gi5+MfOBKwalKg3dkmGChhydB40fnlX\n",
              "FFqNui13fgrQmqb+YzvRZvWf1MyGKoSDPLNkyrFkpEG6+Zgk45zziVAifraZQgLKUzx/Emx87TmX\n",
              "hyRbyYW8ACtyyLRgDp4a09ZNW45tfKNgQAL/727TnT0pTVlVFUbBAAAAzEGfUEUVLBb/AAB71NV2\n",
              "d0hOlL26e9jroMedgmqA18aXtf0D+4lb2zldx0LIDOOAQ2rX7HFN0+vsnC/3CCJPdC+qaEBmnhz0\n",
              "4twsn3E9RNazvgAwr/S9AC9b6uf1cWyvooUXi1KYxD5/jEL7HMKCppHfUsTtlxVtZZd5aNx7DgR9\n",
              "9b70N9YHHbAWAp6NaknVRkMXa8is5JS0pX2FUuJk2aALAzJZNj23m99CokF1/LAPO8jYw/ooqo7v\n",
              "YGpWANfCujlxW+WqdjjoJkc5vQAAAUABn290QV8AAMNYJIVaABDrGzmraev6wP9+DgUC9v9y5duA\n",
              "jAscU/oJu0nfQWeZlZ6KZ2AUL9QYS7zqmPjSMX589/MyTw1hamSIsw5MiSXET9g+phz+FmrVvcds\n",
              "FfmOE3p/zqptcW4wiPlwksinJknJGCYdPkBBYKHUbowcnDoXzfOoTYhB4MLJfWD9VdwTyw2AZDLt\n",
              "daFGybLNPRVjZMA+YxSAFlN+PNdnvna+kzX2Q+UANNnDsnAfcjIfI/APJhSTduF+pHl9ICcgPJqD\n",
              "o2aAP1kXlrMzu9xy+WzZBCAK2Q+hAK4LMm1LBqQgH9OFDpGlJK3kRActtXDIvWeqx2zPs4McpkVA\n",
              "EmNZzVzGu6edRuIl4Gp1Mzw/V6fbxfR10fLvdKWFISeK13SebnNm/MGrSLlaSAeE7Y7T8Nncu4wM\n",
              "wAAAAMQBn3FqQV8AAMNTiXB7kcbOU+XvIPrw7JTEQAEtb+d62z4xXcPbmefbJbb2uRomQlUDBfxf\n",
              "T/RH7DZsk7YX28LasTojLsC76x4su18kT6/4Gp8gqwyI35b/1R47OfS/U1h8Yo28nFEMG81t34/f\n",
              "XP//g+vAARnt0ZclzPl+xO7ohGrc6kXZUJ0/0UYwL+yIPh+CCtgr54YnIkeX+hZMJFMHbcEoe8kR\n",
              "hDBgBnUyi2939A/jKYgJm9926nObAR2FOPZIABTRAAAA4kGbc0moQWyZTAgv//7aplgAAKp+9xWp\n",
              "hTFiG8mzU/8y9tOAAGdSpYnc8HyrN0ZyyXMqoiFwp6IEvNF3xotSVjry09+gvzJcSZ7L+o6ATsY2\n",
              "TftqNUaQrhFFIMt9N82O1d7EQEpAhiUCjwBuR0aoqk1ED6sZ/bsTxwcDJaP7KoQDfOJyHsKLE39W\n",
              "xWNw5i+0nTSMz2kn/v8KafD9CUPytMwc97Z9BTYt2LILywqR1rO76F/pXDGWnb/m1wnqixsCawoK\n",
              "K8OucSh9e/zXC9AGXqp3w3sBaG8mGwhfap51ljcAErAAAADgQZuVSeEKUmUwUVLBf/7aplgAAD1b\n",
              "4/8N+E4AHN+qULfq6Et2L5DnBPHhfF8LgTU7KMkGR6sX6Fn4r4Yh3FOo/nrGqB19nzu2xkQ+tQWc\n",
              "SX1dUFJ4DGH136L+EYbegh4FIZ+J+6LqhUtJLy8I200LyJDfDy4DJWstA6Y+W1gUfTRcNl6SJJ+T\n",
              "XxomrMTfGutHs5OnSEN4Io2XsPARkE1iz6KhLwcdDt0IHiH5s7MLrGNsjfq74q1jBVq4EGAfJhvo\n",
              "rF81T5wNmj70Hi+avtcA/9kJdCXZRrqsf/dC3bQAPmAAAADNAZ+0akFfAAADACnoUVMT3231nlHn\n",
              "5j+J4soBACxKbZ9onkreQc10fLn8PnvgFNmiQzCCVcQnlkiCmsr/7F3YDXfzHwd4E+5K1aQzjnWH\n",
              "Nk7SB3HtFsDHBh5mRbzmtdZxECR77cBQFKFV4w895EMSr2+Xr8K3CLrrXge0k6PfiIKEOxz1NvuU\n",
              "jRzPuihnDPpOKI2P4mrQm1uOxXp2bs642HnVPG+TOvsmZ4u2r7ZJ4QN+zwGVv9t6V9gOulFoFzl8\n",
              "u7yw8LzT2KKkiAD1gQAAAXJBm7ZJ4Q6JlMCC3/7WpVABIHB8p6AC3t7IvsKdjFC02KDO1CpMifer\n",
              "jTNseye7HnHNGAemBftPdSyXyWqsG/H8kflrnyO8LZFgSWPcZnX13wnzadusmgK4GZV1hRyYc1HX\n",
              "7DsLnkv//ivqCs8U27EiXqsSzepIiBqf7EexhJZuoDT98fzbhh3LB5OEz8FbNYUBuw1CUEe8U0a3\n",
              "xJAOSNrDXd/ZaVmhDTZKd3qP23+d2ePJBdmt6PZia0G1NEWBp/jUZ0RQGBqkI1mnkNtL3zugYDgs\n",
              "EumdgxKsOL/CkHiBGvfGIO0Ik6lyz3Voa4FZRU5eR9Avn27OJGpUrKZSGZlVZfg6O6xFgZN8xtOH\n",
              "Ik/AcZ6EfLPSYBNE76wDopZITf2ue8eQvtvw/Pw4PsZPuhWpOQcQpuWWX5bpVT+w3c90w1y9h9rt\n",
              "kZMHFSCPw72RnQn2Wc6Iz/rsxzswHBKBlFmUIPWiylnHDwvCWFyl1bqugAE3AAAA0kGb10nhDyZT\n",
              "Agr//talUABqLjIsRl3/y6FeZoACZKDu+KYLqGepnGC0wHEXyeaK8cuuWmmDYwi09P31Tb1BtaNB\n",
              "LP7KKbC+6HCSVRLl1rO9xqVJLvIqZ4DhbBKwRccSz3qfui9lJaPZqxl4RMiiTxi3O2+SrFMNvr/+\n",
              "EnWRHSrq4zg4IrIfoGM8Nd/M8C3z1bljHSYgGtR/NMaNd+TfthL9nVyb7LqQSKYvCj0cTh6X+KfE\n",
              "Fr24GFhEfZxrK0SI3uXTHqJN60qDzcKnOrQKKgABoQAABDptb292AAAAbG12aGQAAAAAAAAAAAAA\n",
              "AAAAAAPoAABdwAABAAABAAAAAAAAAAAAAAAAAQAAAAAAAAAAAAAAAAAAAAEAAAAAAAAAAAAAAAAA\n",
              "AEAAAAAAAAAAAAAAAAAAAAAAAAAAAAAAAAAAAAAAAAACAAADZHRyYWsAAABcdGtoZAAAAAMAAAAA\n",
              "AAAAAAAAAAEAAAAAAABdwAAAAAAAAAAAAAAAAAAAAAAAAQAAAAAAAAAAAAAAAAAAAAEAAAAAAAAA\n",
              "AAAAAAAAAEAAAAACgAAAAeAAAAAAACRlZHRzAAAAHGVsc3QAAAAAAAAAAQAAXcAAAIAAAAEAAAAA\n",
              "AtxtZGlhAAAAIG1kaGQAAAAAAAAAAAAAAAAAAEAAAAYAAFXEAAAAAAAtaGRscgAAAAAAAAAAdmlk\n",
              "ZQAAAAAAAAAAAAAAAFZpZGVvSGFuZGxlcgAAAAKHbWluZgAAABR2bWhkAAAAAQAAAAAAAAAAAAAA\n",
              "JGRpbmYAAAAcZHJlZgAAAAAAAAABAAAADHVybCAAAAABAAACR3N0YmwAAAC3c3RzZAAAAAAAAAAB\n",
              "AAAAp2F2YzEAAAAAAAAAAQAAAAAAAAAAAAAAAAAAAAACgAHgAEgAAABIAAAAAAAAAAEAAAAAAAAA\n",
              "AAAAAAAAAAAAAAAAAAAAAAAAAAAAAAAAAAAY//8AAAA1YXZjQwFkABb/4QAYZ2QAFqzZQKA9oQAA\n",
              "AwABAAADAAIPFi2WAQAGaOvjyyLA/fj4AAAAABx1dWlka2hA8l8kT8W6OaUbzwMj8wAAAAAAAAAY\n",
              "c3R0cwAAAAAAAAABAAAAGAAAQAAAAAAUc3RzcwAAAAAAAAABAAAAAQAAALhjdHRzAAAAAAAAABUA\n",
              "AAABAACAAAAAAAEAAQAAAAAAAgAAQAAAAAABAAEAAAAAAAIAAEAAAAAAAQABQAAAAAABAACAAAAA\n",
              "AAEAAAAAAAAAAQAAQAAAAAABAAFAAAAAAAEAAIAAAAAAAQAAAAAAAAABAABAAAAAAAEAAUAAAAAA\n",
              "AQAAgAAAAAABAAAAAAAAAAEAAEAAAAAAAQAAgAAAAAABAADAAAAAAAEAAEAAAAAAAgAAgAAAAAAc\n",
              "c3RzYwAAAAAAAAABAAAAAQAAABgAAAABAAAAdHN0c3oAAAAAAAAAAAAAABgAAEJGAAABFAAAANIA\n",
              "AAFtAAAA1AAAAVwAAAFSAAAA7wAAAWMAAAEeAAABUAAAAa0AAAFFAAABPgAAARYAAADHAAAA0AAA\n",
              "AUQAAADIAAAA5gAAAOQAAADRAAABdgAAANYAAAAUc3RjbwAAAAAAAAABAAAAMAAAAGJ1ZHRhAAAA\n",
              "Wm1ldGEAAAAAAAAAIWhkbHIAAAAAAAAAAG1kaXJhcHBsAAAAAAAAAAAAAAAALWlsc3QAAAAlqXRv\n",
              "bwAAAB1kYXRhAAAAAQAAAABMYXZmNTguNzYuMTAw\n",
              "\">\n",
              "  Your browser does not support the video tag.\n",
              "</video>"
            ]
          },
          "metadata": {},
          "execution_count": 13
        },
        {
          "output_type": "display_data",
          "data": {
            "text/plain": [
              "<Figure size 640x480 with 1 Axes>"
            ],
            "image/png": "[encoded data removed]"
          },
          "metadata": {}
        }
      ]
    },
    {
      "cell_type": "markdown",
      "source": [
        "###  **g. Ejemplo 7**. Considere el E.A:  Consiste en lanzar un par de dados  **distinguibles**\n",
        "- El espacio muestral es $\\Omega=\\{(1,1),\\cdots,(1,6),(2,1),\\cdots,(2,6),(6,1),(6,6)\\}$ . $\\sharp(\\Omega)=36$\n"
      ],
      "metadata": {
        "id": "zLZiVywzNGSG"
      }
    },
    {
      "cell_type": "code",
      "source": [
        "Dado1 = range(1,7,1)\n",
        "Dado2 = range(1,7,1)\n",
        "S = [(i,j) for i in Dado1 for j in Dado2]\n",
        "print(f'Espacio Muestral S = {S}')\n",
        "print(f'Longitud del Espacio Muestral  = {len(S)}')"
      ],
      "metadata": {
        "colab": {
          "base_uri": "https://localhost:8080/"
        },
        "id": "-_rd-SbEEAa0",
        "outputId": "9353d5f3-c00c-4e5e-f077-b4f1637de895"
      },
      "execution_count": 17,
      "outputs": [
        {
          "output_type": "stream",
          "name": "stdout",
          "text": [
            "Espacio Muestral S = [(1, 1), (1, 2), (1, 3), (1, 4), (1, 5), (1, 6), (2, 1), (2, 2), (2, 3), (2, 4), (2, 5), (2, 6), (3, 1), (3, 2), (3, 3), (3, 4), (3, 5), (3, 6), (4, 1), (4, 2), (4, 3), (4, 4), (4, 5), (4, 6), (5, 1), (5, 2), (5, 3), (5, 4), (5, 5), (5, 6), (6, 1), (6, 2), (6, 3), (6, 4), (6, 5), (6, 6)]\n",
            "Longitud del Espacio Muestral  = 36\n"
          ]
        }
      ]
    },
    {
      "cell_type": "markdown",
      "source": [
        "###  **h. Ejemplo 8**.  Considere el E.A:  Consiste en lanzar un par de dados **no distinguibles**.\n",
        "\n",
        "- El espacio muestral es $\\Omega=\\{(1,1),\\cdots,(1,6),(2,2),\\cdots,(2,6),(3,3),\\cdots,(3,6),(4,4),\\cdots,(4,6),(5,5),(5,6),(6,6)\\}$. $\\sharp(\\Omega)=21$.\n"
      ],
      "metadata": {
        "id": "5xdP3WT6NGWv"
      }
    },
    {
      "cell_type": "code",
      "source": [
        "# Definir los rangos de los dados\n",
        "Dado1 = range(1, 7)\n",
        "Dado2 = range(1, 7)\n",
        "\n",
        "# Generar todas las combinaciones posibles y filtrar las parejas indistinguibles\n",
        "S = []\n",
        "for i in Dado1:\n",
        "    for j in Dado2:\n",
        "        if (i, j) not in S and (j, i) not in S:\n",
        "            S.append((i, j))\n",
        "\n",
        "# Mostrar el espacio muestral y su longitud\n",
        "print(f'Espacio Muestral S = {S}')\n",
        "print(f'Longitud del Espacio Muestral = {len(S)}')\n"
      ],
      "metadata": {
        "colab": {
          "base_uri": "https://localhost:8080/"
        },
        "id": "ujYayku6FZ5f",
        "outputId": "75d2188a-ffa0-4131-cdce-0735bb2a4174"
      },
      "execution_count": 22,
      "outputs": [
        {
          "output_type": "stream",
          "name": "stdout",
          "text": [
            "Espacio Muestral S = [(1, 1), (1, 2), (1, 3), (1, 4), (1, 5), (1, 6), (2, 2), (2, 3), (2, 4), (2, 5), (2, 6), (3, 3), (3, 4), (3, 5), (3, 6), (4, 4), (4, 5), (4, 6), (5, 5), (5, 6), (6, 6)]\n",
            "Longitud del Espacio Muestral = 21\n"
          ]
        }
      ]
    },
    {
      "cell_type": "markdown",
      "source": [
        "###  **i. Ejemplo 9**. Considere el E.A:  Lanzar un dado y luego tirar una moneda tantas veces como indicó el dado.\n",
        "- El espacio muestral es $$\\Omega = \\{(1C),(1S),(2CC),\\cdots,(2SS),\\cdots,(6CCCCCC),\\cdots,(6SSSSSS)\\}$$ .\n",
        "- $$\\sharp(\\Omega)=2^1+2^2+2^3+...+2^6=126$$.\n"
      ],
      "metadata": {
        "id": "O5Mha2PlNGbW"
      }
    },
    {
      "cell_type": "code",
      "source": [
        "def contar_resultados():\n",
        "    total_resultados = 0\n",
        "\n",
        "    for dado1 in range(1, 7):\n",
        "        suma_dados  = dado1\n",
        "        resultados_moneda = 2 ** suma_dados\n",
        "        total_resultados += resultados_moneda\n",
        "\n",
        "    return total_resultados\n",
        "\n",
        "total_resultados = contar_resultados()\n",
        "print(f\"El número total de resultados posibles es: {total_resultados}\")\n"
      ],
      "metadata": {
        "colab": {
          "base_uri": "https://localhost:8080/"
        },
        "id": "RJA1Q2UC94sd",
        "outputId": "ded946f6-17a0-4c3c-ed22-b6fc17b344ac"
      },
      "execution_count": 3,
      "outputs": [
        {
          "output_type": "stream",
          "name": "stdout",
          "text": [
            "El número total de resultados posibles es: 126\n"
          ]
        }
      ]
    },
    {
      "cell_type": "markdown",
      "source": [
        "\n",
        "##  **j. Ejemplo 10**.  Suponga que se lanzan dos dados y la moneda el total de veces que dicen los dados. ¿Cuántos resultados hay?\n",
        "\n",
        "\n",
        "|Resultado|Total|frecuencia|Total moneda|Total|\n",
        "|:-:|:-:|:-:|:-:|:-:|\n",
        "|(1,1)|2|1|$2^2=4$|1*4=4|\n",
        "|(1,2), (2,1)|3|2|$2^3=8$|2*8=16|\n",
        "|(1,3), (2,2), (3,1)|4|3|$2^4=16$|3*16=48|\n",
        "|(1,4), (2,3), (3,2), (4,1)|5|4|$2^5=32$|4*32=128|\n",
        "|(1,5), (2,4), (3,3), (4,2), (5,1)|6|5|$2^6=64$|5*64=320|\n",
        "|(1,6), (2,5), (3,4), (4,3), (5,2), (6,1)|7|6|$2^7=128$|6*128=768|\n",
        "|(2,6), (3,5), (4,4), (5,3), (6,2)|8|5|$2^8=256$|5*256=1280|\n",
        "|(3,6), (4,5), (5,4), (6,3)|9|4|$2^9=512$|4*512=2048|\n",
        "|(4,6), (5,5), (6,4)|10|3|$2^{10}=1024$|3*1024=3072|\n",
        "|(5,6), (6,5)|11|2|$2^{11}=2048$|2*2048=4096|\n",
        "|(6,6)|12|1|$2^{12}=4096$|1*4096=4096|\n"
      ],
      "metadata": {
        "id": "8WrWV24NZGGq"
      }
    },
    {
      "cell_type": "code",
      "source": [
        "def contar_resultados():\n",
        "    total_resultados = 0\n",
        "\n",
        "    for dado1 in range(1, 7):\n",
        "        for dado2 in range(1, 7):\n",
        "            suma_dados = dado1 + dado2\n",
        "            resultados_moneda = 2 ** suma_dados\n",
        "            total_resultados += resultados_moneda\n",
        "\n",
        "    return total_resultados\n",
        "\n",
        "total_resultados = contar_resultados()\n",
        "print(f\"El número total de resultados posibles es: {total_resultados}\")\n"
      ],
      "metadata": {
        "colab": {
          "base_uri": "https://localhost:8080/"
        },
        "id": "nZUdVSgqLLlU",
        "outputId": "e8f02d8c-1ba5-4410-e97e-96910d422751"
      },
      "execution_count": 2,
      "outputs": [
        {
          "output_type": "stream",
          "name": "stdout",
          "text": [
            "El número total de resultados posibles es: 15876\n"
          ]
        }
      ]
    }
  ]
}