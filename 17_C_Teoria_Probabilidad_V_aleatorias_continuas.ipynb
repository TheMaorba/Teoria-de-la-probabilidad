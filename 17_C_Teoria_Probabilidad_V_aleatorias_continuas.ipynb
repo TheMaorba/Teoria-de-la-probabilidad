{
  "cells": [
    {
      "cell_type": "markdown",
      "metadata": {
        "id": "view-in-github",
        "colab_type": "text"
      },
      "source": [
        "<a href=\"https://colab.research.google.com/github/JSEFERINO/CURSO2024/blob/main/17_C_Teoria_Probabilidad_V_aleatorias_continuas.ipynb\" target=\"_parent\"><img src=\"https://colab.research.google.com/assets/colab-badge.svg\" alt=\"Open In Colab\"/></a>"
      ]
    },
    {
      "cell_type": "markdown",
      "metadata": {
        "id": "tvWruVdAfPkW"
      },
      "source": [
        "# **Curso Teoría de Probabilidad por Julio Hurtado Márquez**\n",
        "## **Parte XIII- Modelos Probabilísticos Continuos**\n",
        "# **Librerias para usar en esta parte del curso**"
      ]
    },
    {
      "cell_type": "code",
      "execution_count": null,
      "metadata": {
        "colab": {
          "base_uri": "https://localhost:8080/"
        },
        "id": "oMTb2sIusSdw",
        "outputId": "6682af7c-f7e4-47f1-9f1b-66fc1df529de"
      },
      "outputs": [
        {
          "output_type": "stream",
          "name": "stdout",
          "text": [
            "Setup Complete\n"
          ]
        }
      ],
      "source": [
        "# **Librerias para usar en esta parte del cursor**\n",
        "import pandas as pd\n",
        "import numpy as np\n",
        "import matplotlib.pyplot as plt\n",
        "%matplotlib inline\n",
        "import seaborn as sns\n",
        "from scipy import stats\n",
        "import warnings\n",
        "warnings.filterwarnings(\"ignore\", category=FutureWarning)\n",
        "\n",
        "print(\"Setup Complete\")"
      ]
    },
    {
      "cell_type": "markdown",
      "source": [
        "\n",
        "# **166. Variables aleatorias continuas y funciones de densidad de Probabilidad**\n",
        "\n",
        "# **a. Definición de variable aleatoria continua**\n",
        "+ Una variable $X$ es llamada continua si toma todos sus valores sobre un intervalo de la recta real.  Esto es, el conjunto $\\{X(w):w∈Ω\\}$ es un intervalo sobre $\\mathbb{R}$.  \n",
        "+ Como ejemplo este caso se pueden considerar variables aleatorias continuas: _tiempo, edad y estatura_.\n",
        "\n",
        "+ **Función densidad**. Sea $X$ una variable aleatoria definida sobre $(Ω,A,P)$.  La función de densidad $f(x)$ es dada por alguna función integrable sobre $\\mathbb{R}$ tal que\n",
        "\n",
        " -  $f(x)\\geq0$, para  todo  $x∈\\mathbb{R}$\n",
        " -  $P_{X}(A)=∫_{A}f(x)dx$ para todo evento $A\\subseteq\\mathbb{R}$\n",
        "\n",
        "\n",
        "+ **Teorema** Sea $X$ una variable aleatoria definida sobre $(Ω,A,P)$. Toda función $f(x)$ que es integrable sobre $\\mathbb{R}$ y satisface:\n",
        "\n",
        " -  $f(x)\\geq0$, para  todo  $x∈\\mathbb{R}$\n",
        " -  $ ∫_{-∞}^{∞}f(x)dx=1$  \n",
        "  es la función de densidad de alguna variable aleatoria continua $X$.\n",
        "+ **Nota**. Este teorema nos sirve para determinar cuando una función integrable sobre $\\mathbb{R}$ es una función de densidad de alguna variable aleatoria continua $X$.\n"
      ],
      "metadata": {
        "id": "gOSm_7Dg5KJD"
      }
    },
    {
      "cell_type": "markdown",
      "source": [
        "\n",
        "# **b. Ejemplo. De una variable aleatoria continua**.\n",
        "+ Sea  $f(x)$ una función sobre $\\mathbb{R}$ dada por\n",
        "\n",
        "\n",
        "$$f(x)= \\left\\{ \\begin{array}{lcc}\n",
        "             x\t&   si\t&   0≤x≤1 , \\\\\n",
        "             \\\\ 2-x\t&   si\t&   1≤x≤2, \\\\\n",
        "             \\\\ 0 &   en & otro & caso\n",
        "             \\end{array}\n",
        "   \\right.$$\n",
        "\n",
        "\n",
        " - Esta es una función integrable que satisface que  $f(x)$ para  todo  $x∈\\mathbb{R}$ como se puede observar en la figura 1.\n"
      ],
      "metadata": {
        "id": "m0-L6uKLDtEx"
      }
    },
    {
      "cell_type": "markdown",
      "source": [
        "# **c. Ejemplo. De una variable aleatoria continua**"
      ],
      "metadata": {
        "id": "C1q9sgsPERPe"
      }
    },
    {
      "cell_type": "code",
      "source": [
        "# **c. Ejemplo. De una variable aleatoria continua**\n",
        "import numpy as np\n",
        "import matplotlib.pyplot as plt\n",
        "\n",
        "x = np.linspace(-1, 3,1000)\n",
        "y = np.piecewise(x, [x<0, (x>=0)&(x<1),(x>=1)&(x<2),x>=2], [lambda x: 0, lambda x: x,lambda x: 2-x, lambda x: 0])\n",
        "\n",
        "plt.plot(x, y)\n",
        "plt.grid()\n",
        "plt.text(-0.5,0.1, 'y = 0')\n",
        "plt.text(0.0,0.6, 'y = x')\n",
        "plt.text(1.6,0.6, 'y = 2-x')\n",
        "plt.text(2.5,0.1, 'y = 0')\n",
        "plt.title('Figura 1. Funcion densidad de probabilidad')\n",
        "plt.show()"
      ],
      "metadata": {
        "colab": {
          "base_uri": "https://localhost:8080/",
          "height": 452
        },
        "id": "IsB5Jl4vdros",
        "outputId": "2485b00e-354c-4559-83c5-8d87f6bb1bea"
      },
      "execution_count": null,
      "outputs": [
        {
          "output_type": "display_data",
          "data": {
            "text/plain": [
              "<Figure size 640x480 with 1 Axes>"
            ],
            "image/png": "[encoded data removed]"
          },
          "metadata": {}
        }
      ]
    },
    {
      "cell_type": "markdown",
      "source": [
        "# **d. Probando que es una función densidad**\n",
        "+ Además\n",
        "\n",
        "\t$$∫_{-∞}^{∞}f(x)dx=∫_{-∞}^{0}0dx+∫_{0}^{1}xdx+∫_{1}^{2}(2-x)dx+∫_{2}^{∞}0dx=1.0$$\n",
        "\n"
      ],
      "metadata": {
        "id": "X8_NIj5iEIdp"
      }
    },
    {
      "cell_type": "code",
      "source": [
        "# **d. Probando que es una función densidad**\n",
        "from sympy import integrate, init_printing\n",
        "from sympy.abc import x\n",
        "\n",
        "print('Calculando la integral $∫_{-∞}^{∞}f(x)dx=$',integrate(x, (x,0,1))+integrate(2-x, (x,1,2)))"
      ],
      "metadata": {
        "colab": {
          "base_uri": "https://localhost:8080/"
        },
        "id": "3KkIl1YoEmqh",
        "outputId": "f76ca12c-76e0-4283-cf10-830fce5818e8"
      },
      "execution_count": null,
      "outputs": [
        {
          "output_type": "stream",
          "name": "stdout",
          "text": [
            "Calculando la integral $∫_{-∞}^{∞}f(x)dx=$ 1\n"
          ]
        }
      ]
    },
    {
      "cell_type": "markdown",
      "source": [
        "## **e. Sea el evento $A=(0.5,1.8]$ entonces la probabilidad de $A$ puede ser calculada como**\n",
        "\n",
        "\n",
        "+ $$p(A)=∫_{0.5}^{1}xdx+∫_{1}^{1.8}(2-x)dx=0.855$$\n",
        "\n"
      ],
      "metadata": {
        "id": "5ScbsLlCFo4L"
      }
    },
    {
      "cell_type": "code",
      "source": [
        "# **e. Probando que es una función densidad**\n",
        "from sympy import integrate, init_printing\n",
        "from sympy.abc import x\n",
        "\n",
        "print('Calculando la integral p(A)=∫_{0.5}^{1}xdx+∫_{1}^{1.8}(2-x)dx',integrate(x, (x,0.5,1))+integrate(2-x, (x,1,1.8)))"
      ],
      "metadata": {
        "colab": {
          "base_uri": "https://localhost:8080/"
        },
        "id": "8Sq9AbCWF02i",
        "outputId": "12de1c18-d26e-4de7-9034-b103c43b82e3"
      },
      "execution_count": null,
      "outputs": [
        {
          "output_type": "stream",
          "name": "stdout",
          "text": [
            "Calculando la integral p(A)=∫_{0.5}^{1}xdx+∫_{1}^{1.8}(2-x)dx 0.855000000000000\n"
          ]
        }
      ]
    },
    {
      "cell_type": "markdown",
      "source": [
        "# **167. FUNCIÓN DE PROBABILIDAD ACUMULADA**\n",
        "\n",
        "+ La función de probabilidad acumulada o función de distribución de una variable aleatoria $X$ sobre $Ω$, denotada por $F(x)$, es definida por la relación\n",
        "$$F(x)=P\\{w:-∞<X(w)≤x\\}=P(X≤x)=∫_{-∞}^{x}f(x)dx$$\n",
        "\n",
        "# **a. Ejemplo de la distribución acumulada**\n",
        "+ Para el ejemplo tratado anteriormente la función de distribución es determinada como sigue:\n",
        "\n",
        " -  Divida el rango de la variable en subintervalos: $x\\leq0$,  $0<x\\leq1$, $1<x\\leq2$ y $x\\geq2$. esta división es realizada de acuerdo a la partición de la recta real dada en la función de probabilidad.  cambie la notación de f(x) por f(t) para evitar confuciones.\n",
        "\n",
        " -  Calcule la función de probabilidad acumulada para un un valor x que se encuentre en el intervalo como la suma de las probabilidades de los valores de la variable menores a x.\n",
        "\n",
        " -  Para $x\\leq0$, $$\tF(x)=P(X≤x)=∫_{-∞}^{x}f(t)dt=∫_{-∞}^{x}0dt=0$$\n",
        "ya que según la definición de la función de probabilidad $f(x)=0$\n",
        "  -  Para $0≤x<1$ $$\tF(x)  =P(X≤x)=∫_{-∞}^{x}f(t)dt\n",
        "\t =∫_{-∞}^{0}0dt+∫_{0}^{x}tdt=t^2/2|_{0}^{x}=x^2/2$$\n",
        "\n",
        " -  Para $1<x\\leq2$, $$\n",
        "\tF(x)  =P(X≤x)=∫_{-∞}^{x}f(t)dt\n",
        "\t =∫_{-∞}^{0}0dt+∫_{0}^{1}tdt+∫_{1}^{x}(2-t)dt\n",
        "\t =0+((t^2)/2)|_{0}^{1}+(2t-((t^2)/2))|_{1}^{x}\n",
        "\t =((1^2)/2)+[(2x-((x^2)/2))-(2-((1^2)/2))]\n",
        "\t =2x-x^2/2-1$$\n",
        "\n",
        "\n",
        "+ Para $x\\geq2$, $$\n",
        "\tF(x)  =P(X≤x)=∫_{-∞}^{x}f(t)dt\n",
        "\t =∫_{-∞}^{0}0dt+∫_{0}^{1}tdt+∫_{1}^{2}(2-t)dt+∫_{0}^{x}0dt\n",
        "\t =0+((t^2)/2)|_{0}^{1}+(2t-((t^2)/2))|_{1}^{2}+0\n",
        "\t =1$$\n",
        "\n",
        "\n",
        "+ Luego la función distribución acumulada $F(x)$ de la variable aleatoria continua X es dada por\n",
        "\n",
        "\n",
        "$$F(x)= \\left\\{ \\begin{array}{lcc}\n",
        "             0\t&   si\t&   x≤0 , \\\\\n",
        "             \\\\ \\frac{x^2}{2}\t&   si\t&   0≤x<1, \\\\\n",
        "             \\\\ 2x-\\frac{x^2}{2}-1\t&   si\t&   1≤x≤2, \\\\\n",
        "             \\\\ 1 &   si\t&   x\\geq2\n",
        "             \\end{array}\n",
        "   \\right.$$\n",
        "\n",
        "y el gráfico $F(x)$ es dado"
      ],
      "metadata": {
        "id": "g7RVTTz9HXMF"
      }
    },
    {
      "cell_type": "markdown",
      "source": [
        "# **b. Ejemplo. Gráfico de la Distribución acumulada de probabilidad**"
      ],
      "metadata": {
        "id": "Hy2dPKqzPZzj"
      }
    },
    {
      "cell_type": "code",
      "source": [
        "# **b. Ejemplo. Gráfico de la Distribución acumulada de probabilidad**\n",
        "import numpy as np\n",
        "import matplotlib.pyplot as plt\n",
        "\n",
        "x = np.linspace(-1, 3,1000)\n",
        "y = np.piecewise(x, [x<0, (x>=0)&(x<1),(x>=1)&(x<2),x>=2], [lambda x: 0, lambda x: x**2/2,lambda x: 2*x-x**2/2-1, lambda x: 1])\n",
        "\n",
        "plt.plot(x, y)\n",
        "plt.grid()\n",
        "plt.text(-0.5,0.1, 'y = 0')\n",
        "plt.text(0.4,0.4, '$y = x^2/2$')\n",
        "plt.text(1.2,0.5, '$y = 2x-x^2/2-1$')\n",
        "plt.text(2.5,0.95, '$y = 1$')\n",
        "plt.title('Figura 1. Funcion Distribución Acumulada de probabilidad')\n",
        "\n",
        "plt.show()"
      ],
      "metadata": {
        "colab": {
          "base_uri": "https://localhost:8080/",
          "height": 453
        },
        "id": "LLFErhBLOecE",
        "outputId": "5a22b24d-020b-4466-f385-66f3b217f72f"
      },
      "execution_count": null,
      "outputs": [
        {
          "output_type": "display_data",
          "data": {
            "text/plain": [
              "<Figure size 640x480 with 1 Axes>"
            ],
            "image/png": "[encoded data removed]"
          },
          "metadata": {}
        }
      ]
    },
    {
      "cell_type": "markdown",
      "source": [
        "# **c. Funcion acumulada $F(x)$ con Python**"
      ],
      "metadata": {
        "id": "hYHh9h5VQEGC"
      }
    },
    {
      "cell_type": "code",
      "source": [
        "# **c. Funcion acumulada $F(x)$ con Python**\n",
        "from sympy.abc import x,y,z,a,b,c,d\n",
        "from sympy import simplify\n",
        "from sympy import integrate, init_printing\n",
        "from sympy.abc import x\n",
        "init_printing(use_latex=\"mathjax\")\n",
        "from sympy import cos,pi\n",
        "f1=0\n",
        "f2=x\n",
        "f3=2-x\n",
        "f4 = 0\n",
        "print(\"Para x<=0, F(x) =\", integrate(f1,(x,-1,a)))\n",
        "print(\"Para 0<x<=1, F(x) =\", integrate(f2,(x,0,a))+integrate(f1,(x,-1,0)))\n",
        "print(\"Para 1<x<=2, F(x) =\",\n",
        "      integrate(f3,(x,1,a))+integrate(f2,(x,0,1))+integrate(f1,(x,-1,0)))\n",
        "print(\"Para 2=<x, F(x) =\",\n",
        "      integrate(f4,(x,2,a))+integrate(f3,(x,1,2))+integrate(f2,(x,0,1))+integrate(f1,(x,-1,0)))"
      ],
      "metadata": {
        "colab": {
          "base_uri": "https://localhost:8080/"
        },
        "id": "3PVK1fbXQnsP",
        "outputId": "f713b808-d206-4594-95fd-03e3bdbf2499"
      },
      "execution_count": null,
      "outputs": [
        {
          "output_type": "stream",
          "name": "stdout",
          "text": [
            "Para x<=0, F(x) = 0\n",
            "Para 0<x<=1, F(x) = a**2/2\n",
            "Para 1<x<=2, F(x) = -a**2/2 + 2*a - 1\n",
            "Para 2=<x, F(x) = 1\n"
          ]
        }
      ]
    },
    {
      "cell_type": "markdown",
      "source": [
        "# **d. Sea el evento $A=(0.5,1.8]$ entonces la probabilidad de A puede ser calculada como**\n",
        "$$\tp(A) =F(1.8)-F(0.5)\n",
        "\t =[2(1.8)-(1.8)^2/2)-1]-(0.5^2)/2)]\n",
        "\t =0.855$$\n",
        "\n"
      ],
      "metadata": {
        "id": "AQ6WiUzXrcZH"
      }
    },
    {
      "cell_type": "code",
      "source": [
        "import sympy as sp\n",
        "x = sp.Symbol('x')\n",
        "F_1x = x**2/2 # Para 0<x<=1\n",
        "F_2x = 2*x-x**2/2-1 # Para 1<x<=2\n",
        "F_3x = 1 # Para 2=<x\n",
        "\n",
        "print(\"p(A) = F_2(1.8)-F_1(0.5)=\",F_2x.subs(x,1.8)-F_1x.subs(x,0.5) )"
      ],
      "metadata": {
        "colab": {
          "base_uri": "https://localhost:8080/"
        },
        "id": "zX1tSpHtr8_1",
        "outputId": "53b4e67b-3e56-41ff-ae84-5e894915e583"
      },
      "execution_count": null,
      "outputs": [
        {
          "output_type": "stream",
          "name": "stdout",
          "text": [
            "p(A) = F_2(1.8)-F_1(0.5)= 0.855000000000000\n"
          ]
        }
      ]
    },
    {
      "cell_type": "markdown",
      "source": [
        "# **168. Valor Esperado y Varianza de una variable aleatoria continua $X$**\n",
        "+ **Valor Esperado**. Sea $X$ una variable aleaoria definida sobre $Ω$ y sea $g$ una función real definida sobre $\\mathbb{R}$ y definamos $g(X)$ por $$\n",
        "\tg(X)(w)=g(X(w)), w∈Ω$$.\n",
        "- **Caso discreto**. Suponga que $g(X)$ es una variable aleatoria es discreta. Si $∑_{i=1}^{∞}|g(x_{j})|P(X=x)<∞$, entonces se define la media de $g(X)$ o el valor esperado de $g(X)$ por $$E[g(X)]=∑_{i=1}^{∞}g(x_{i})P(X=x_{i})$$\n",
        "\n",
        "\n",
        "  - **Caso continuo**. Suponga que $g(X)$ es una variable aleatoria continua y $f$ la función de densidad de $X$. Si $∫_{-∞}^{∞}|g(x)|f(x)dx<∞$, entonces se define la media de $g(X)$ o el valor esperado de $g(X)$ por $$E[g(X)]=∫_{-∞}^{∞}g(x)f(x)dx$$\n",
        "\n",
        " - **Media de $X$** $$\\mu = E(X)=∫_{-∞}^{∞}xf(x)dx$$\n",
        "\n",
        " - **Varianza  de $X$** $$\\sigma^2 = E(X-μ)^2=∫_{-∞}^{∞}(x-μ)^2f(x)dx=E(X^2)-μ^2$$\n"
      ],
      "metadata": {
        "id": "5hGXRTZnxS2c"
      }
    },
    {
      "cell_type": "markdown",
      "source": [
        "# **169. Recordando integracion con Python**"
      ],
      "metadata": {
        "id": "8MTsq_QU01lJ"
      }
    },
    {
      "cell_type": "code",
      "source": [
        "from sympy import integrate, init_printing\n",
        "from sympy.abc import x\n",
        "init_printing(use_latex=\"mathjax\")\n",
        "from sympy import cos,pi\n",
        "integrate(cos(x), (x,0,pi/2.0))"
      ],
      "metadata": {
        "colab": {
          "base_uri": "https://localhost:8080/",
          "height": 37
        },
        "id": "Dvug6TRLBf_r",
        "outputId": "e6dc92e1-1dc6-4fa6-aa99-b72eff247145"
      },
      "execution_count": null,
      "outputs": [
        {
          "output_type": "execute_result",
          "data": {
            "text/plain": [
              "1"
            ],
            "text/latex": "$\\displaystyle 1$"
          },
          "metadata": {},
          "execution_count": 34
        }
      ]
    },
    {
      "cell_type": "code",
      "source": [
        "f = x**2 - 3*x + 2\n",
        "integrate(f)"
      ],
      "metadata": {
        "colab": {
          "base_uri": "https://localhost:8080/",
          "height": 54
        },
        "id": "14fC9Oh-B1gp",
        "outputId": "b21fe17d-da3d-4236-c70c-874b5b69ba60"
      },
      "execution_count": null,
      "outputs": [
        {
          "output_type": "execute_result",
          "data": {
            "text/plain": [
              " 3      2      \n",
              "x    3⋅x       \n",
              "── - ──── + 2⋅x\n",
              "3     2        "
            ],
            "text/latex": "$\\displaystyle \\frac{x^{3}}{3} - \\frac{3 x^{2}}{2} + 2 x$"
          },
          "metadata": {},
          "execution_count": 3
        }
      ]
    },
    {
      "cell_type": "code",
      "source": [
        "from sympy.abc import a,b,c\n",
        "f = a*x**2+b*x+c\n",
        "integrate(f,x)"
      ],
      "metadata": {
        "colab": {
          "base_uri": "https://localhost:8080/",
          "height": 54
        },
        "id": "zaZvgCqcCE2x",
        "outputId": "c0122caa-b62a-449e-95ff-ea2a7589ff93"
      },
      "execution_count": null,
      "outputs": [
        {
          "output_type": "execute_result",
          "data": {
            "text/plain": [
              "   3      2      \n",
              "a⋅x    b⋅x       \n",
              "──── + ──── + c⋅x\n",
              " 3      2        "
            ],
            "text/latex": "$\\displaystyle \\frac{a x^{3}}{3} + \\frac{b x^{2}}{2} + c x$"
          },
          "metadata": {},
          "execution_count": 7
        }
      ]
    },
    {
      "cell_type": "code",
      "source": [
        "integrate(x, (x,0,5))"
      ],
      "metadata": {
        "colab": {
          "base_uri": "https://localhost:8080/",
          "height": 51
        },
        "id": "yn796f7RCbq3",
        "outputId": "2de88bdd-e066-4a43-dea8-392cccbf8eb1"
      },
      "execution_count": null,
      "outputs": [
        {
          "output_type": "execute_result",
          "data": {
            "text/plain": [
              "25/2"
            ],
            "text/latex": "$\\displaystyle \\frac{25}{2}$"
          },
          "metadata": {},
          "execution_count": 8
        }
      ]
    },
    {
      "cell_type": "code",
      "source": [
        "import numpy as np\n",
        "import matplotlib.pyplot as plt\n",
        "\n",
        "def f(x):\n",
        "  return x**3+14*x-2\n",
        "g = lambda x : 5*x**2\n",
        "x = np.linspace(-5,5,100)\n",
        "plt.plot(x,f(x), label = 'Polinomio', c=\"r\")\n",
        "plt.plot(x,g(x), label = 'Parabola', c=\"b\")\n",
        "plt.xlabel('valores de x')\n",
        "plt.ylabel('f(x)')\n",
        "plt.title('Polinomio')\n",
        "plt.grid()\n",
        "plt.legend()\n",
        "plt.text(0,100, 'Bacano')\n",
        "a = 1\n",
        "print(\"funcion evaluada en a =1 es f(a)=\",f(a) )\n",
        "print(\"funcion evaluada en a =1 es g(a)=\",g(a) )"
      ],
      "metadata": {
        "colab": {
          "base_uri": "https://localhost:8080/",
          "height": 509
        },
        "id": "ZVHqkrgzT7DT",
        "outputId": "ddd554ed-aa5b-408e-c3fb-532ca3b81488"
      },
      "execution_count": null,
      "outputs": [
        {
          "output_type": "stream",
          "name": "stdout",
          "text": [
            "funcion evaluada en a =1 es f(a)= 13\n",
            "funcion evaluada en a =1 es g(a)= 5\n"
          ]
        },
        {
          "output_type": "display_data",
          "data": {
            "text/plain": [
              "<Figure size 640x480 with 1 Axes>"
            ],
            "image/png": "[encoded data removed]"
          },
          "metadata": {}
        }
      ]
    },
    {
      "cell_type": "code",
      "source": [
        "import sympy as sp\n",
        "x = sp.Symbol('x')\n",
        "fx = 7*x**6-5*x**8+9*x**3+14*x-2\n",
        "print(fx)\n",
        "print(\"funcion evaluada en a = 1 es f(a)=\",fx.subs(x,a) )"
      ],
      "metadata": {
        "colab": {
          "base_uri": "https://localhost:8080/"
        },
        "id": "02hhVTUhVLu6",
        "outputId": "5df19377-b776-43a1-cecd-dae9a32f4982"
      },
      "execution_count": null,
      "outputs": [
        {
          "output_type": "stream",
          "name": "stdout",
          "text": [
            "-5*x**8 + 7*x**6 + 9*x**3 + 14*x - 2\n",
            "funcion evaluada en a =1 es f(a)= 23\n"
          ]
        }
      ]
    }
  ],
  "metadata": {
    "colab": {
      "provenance": [],
      "mount_file_id": "13X7nPE01ohpMi0ISyxuJIiqLTpL66n3c",
      "authorship_tag": "ABX9TyNRTRR+1VbPT+Rqjv8xExt5",
      "include_colab_link": true
    },
    "kernelspec": {
      "display_name": "Python 3",
      "name": "python3"
    },
    "language_info": {
      "name": "python"
    }
  },
  "nbformat": 4,
  "nbformat_minor": 0
}