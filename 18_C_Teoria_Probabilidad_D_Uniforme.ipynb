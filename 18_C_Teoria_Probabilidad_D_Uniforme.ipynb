{
  "cells": [
    {
      "cell_type": "markdown",
      "metadata": {
        "id": "view-in-github",
        "colab_type": "text"
      },
      "source": [
        "<a href=\"https://colab.research.google.com/github/JSEFERINO/CURSO2024/blob/main/18_C_Teoria_Probabilidad_D_Uniforme.ipynb\" target=\"_parent\"><img src=\"https://colab.research.google.com/assets/colab-badge.svg\" alt=\"Open In Colab\"/></a>"
      ]
    },
    {
      "cell_type": "markdown",
      "metadata": {
        "id": "tvWruVdAfPkW"
      },
      "source": [
        "# **Curso Teoría de Probabilidad por Julio Hurtado Márquez**\n",
        "## **Parte XII- Modelos Probabilísticos Continuos**\n",
        "# **Librerias para usar en esta parte del curso**"
      ]
    },
    {
      "cell_type": "code",
      "execution_count": null,
      "metadata": {
        "colab": {
          "base_uri": "https://localhost:8080/"
        },
        "id": "oMTb2sIusSdw",
        "outputId": "7e7a13a5-1a2c-4e56-f90e-a8b5b432be90"
      },
      "outputs": [
        {
          "output_type": "stream",
          "name": "stdout",
          "text": [
            "Setup Complete\n"
          ]
        }
      ],
      "source": [
        "# **Librerias para usar en esta parte del cursor**\n",
        "import pandas as pd\n",
        "import numpy as np\n",
        "import matplotlib.pyplot as plt\n",
        "%matplotlib inline\n",
        "import seaborn as sns\n",
        "from scipy import stats\n",
        "import warnings\n",
        "warnings.filterwarnings(\"ignore\", category=FutureWarning)\n",
        "\n",
        "print(\"Setup Complete\")"
      ]
    },
    {
      "cell_type": "markdown",
      "metadata": {
        "id": "uFd2_TeJhfi0"
      },
      "source": [
        "# **170. Distribuciones continuas - La Distribución Uniforme Continua**\n",
        "# **a. La Definición**\n",
        "+ Una variable aleatoria continua $X$ sigue una distribución Uniforme de parámetros $a$ y $b$, lo cual denotamos por $$X∼U(a , b)$$ si tiene funcion FDP dada por la formula:\n",
        "$$ f(X=x)= f(x,μ , σ) = \\frac{1}{b-a}, \\ para\\ a\\leq x \\leq b$$\n",
        "+ Tambien $$E(X)=\\mu=\\frac{a+b}{2}, \\ \\ \\ \\ V(X)=σ^2=\\frac{(b-a)^2}{12}$$\n",
        "\n",
        "+ En dónde $ \\{X\\leq x\\}$ representa al evento de todos resultados menores que $x$.\n",
        "+ $\\mu$ representa al número esperado.\n",
        "+ $V(X)=σ^2$ representa a la varianza.\n"
      ]
    },
    {
      "cell_type": "markdown",
      "source": [
        "# **b. Valor Esperado y Varianza de una variable aleatoria continua $X$**\n",
        "\n",
        " - **Media de $X$**\n",
        " $$\\mu = E(X)=∫_{-∞}^{∞}xf(x)dx=∫_{a}^{b}x\\frac{1}{b-a}dx=\\frac{x^2}{2(b-a)}|_{a}^{b}$$\n",
        "\n",
        " $$\\mu = E(X)=\\frac{b^2-a^2}{2(b-a)}=\\frac{b+a}{2}$$\n",
        "\n",
        " - **Varianza  de $X$** $$\\sigma^2 = E(X-μ)^2=∫_{-∞}^{∞}(x-μ)^2f(x)dx=E(X^2)-μ^2$$\n",
        " -  $$ E(X^2)=∫_{-∞}^{∞}x^2f(x)dx=∫_{a}^{b}x^2\\frac{1}{b-a}dx=\\frac{x^3}{3(b-a)}|_{a}^{b}$$\n",
        "\n",
        " $$ E(X^2)=\\frac{b^3-a^3}{3(b-a)}=\\frac{b^2+ab+a^2}{3}$$\n",
        "\n",
        " - **Varianza  de $X$** $$\\sigma^2 =E(X^2)-μ^2$$\n",
        "\n",
        " $$\\sigma^2 =\\frac{b^2+ab+a^2}{3}-(\\frac{b+a}{2})^2$$\n",
        " $$\\sigma^2 =\\frac{b^2+ab+a^2}{3}-\\frac{b^2+2ab+a^2}{4}$$\n",
        " $$\\sigma^2 =\\frac{b^2-2ab+a^2}{12}$$"
      ],
      "metadata": {
        "id": "wlRLJ1Mh-YAN"
      }
    },
    {
      "cell_type": "markdown",
      "source": [
        "# **c. Valor Esperado y Varianza de una variable aleatoria continua $X$ con Python**"
      ],
      "metadata": {
        "id": "U83lGDSpG78x"
      }
    },
    {
      "cell_type": "code",
      "source": [
        "# **c. Valor Esperado y Varianza de una variable aleatoria continua $X$ con Python**\n",
        "from sympy.abc import x,y,z,a,b,c,d\n",
        "from sympy import simplify\n",
        "from sympy import integrate, init_printing\n",
        "from sympy.abc import x\n",
        "init_printing(use_latex=\"mathjax\")\n",
        "from sympy import cos,pi\n",
        "f1=1/(b-a)\n",
        "f2=x/(b-a)\n",
        "f3=x**2/(b-a)\n",
        "print(\"Comprobando euq es una funcion de probabilidad\")\n",
        "print(\"$∫_{a}^{b}1/(b-a)dx =$\", integrate(f1,(x,a,b)))\n",
        "print(\"Valor Esperado, E(X) =\", integrate(f2,(x,a,b)))\n",
        "print(\"Valor Esperado, E(X^2) =\", integrate(f3,(x,a,b)))\n",
        "print(\"Varianza, V(X) =\", integrate(f3,(x,a,b))-(integrate(f2,(x,a,b)))**2)"
      ],
      "metadata": {
        "colab": {
          "base_uri": "https://localhost:8080/"
        },
        "id": "QbV2EgixEe6H",
        "outputId": "52ae5f20-e951-41dd-e467-06221bed13a2"
      },
      "execution_count": null,
      "outputs": [
        {
          "output_type": "stream",
          "name": "stdout",
          "text": [
            "Comprobando euq es una funcion de probabilidad\n",
            "$∫_{a}^{b}1/(b-a)dx =$ -a/(-a + b) + b/(-a + b)\n",
            "Valor Esperado, E(X) = a**2/(2*a - 2*b) - b**2/(2*a - 2*b)\n",
            "Valor Esperado, E(X^2) = a**3/(3*a - 3*b) - b**3/(3*a - 3*b)\n",
            "Varianza, V(X) = a**3/(3*a - 3*b) - b**3/(3*a - 3*b) - (a**2/(2*a - 2*b) - b**2/(2*a - 2*b))**2\n"
          ]
        }
      ]
    },
    {
      "cell_type": "markdown",
      "source": [
        "# **171. FUNCIÓN DE PROBABILIDAD ACUMULADA**\n",
        "\n",
        "+ La función de probabilidad acumulada o función de distribución de una variable aleatoria $X$ sobre $Ω$, denotada por $F(x)$, es definida por la relación\n",
        "$$F(x)=P\\{w:-∞<X(w)≤x\\}=P(X≤x)=∫_{-∞}^{x}f(x)dx$$\n",
        "\n",
        "\n",
        " -  Para $x\\leq a$, $$\tF(x)=P(X≤x)=∫_{-∞}^{x}f(t)dt=∫_{-∞}^{x}0dt=0$$\n",
        "ya que según la definición de la función de probabilidad $f(x)=0$\n",
        "  -  Para $a≤x<b$ $$\tF(x)  =P(X≤x)=∫_{-∞}^{x}f(t)dt\n",
        "\t =∫_{-∞}^{a}0dt+∫_{a}^{x}\\frac{1}{b-a}dt=\\frac{t}{b-a}|_{a}^{x}=\\frac{t}{b-a}$$\n",
        "\n",
        " -  Para $1<x\\leq2$, $$\n",
        "\tF(x)  =P(X≤x)=∫_{-∞}^{x}f(t)dt\n",
        "\t =∫_{-∞}^{0}0dt+∫_{0}^{1}tdt+∫_{1}^{x}(2-t)dt\n",
        "\t =0+((t^2)/2)|_{0}^{1}+(2t-((t^2)/2))|_{1}^{x}\n",
        "\t =((1^2)/2)+[(2x-((x^2)/2))-(2-((1^2)/2))]\n",
        "\t =2x-x^2/2-1$$\n",
        "\n",
        "\n",
        "+ Para $x\\geq2$, $$\n",
        "\tF(x)  =P(X≤x)=∫_{-∞}^{x}f(t)dt\n",
        "\t =∫_{-∞}^{0}0dt+∫_{0}^{1}tdt+∫_{1}^{2}(2-t)dt+∫_{0}^{x}0dt\n",
        "\t =0+((t^2)/2)|_{0}^{1}+(2t-((t^2)/2))|_{1}^{2}+0\n",
        "\t =1$$\n",
        "\n",
        "\n",
        "+ Luego la función distribución acumulada $F(x)$ de la variable aleatoria continua X es dada por\n",
        "\n",
        "\n",
        "$$F(x)= \\left\\{ \\begin{array}{lcc}\n",
        "             0\t&   si\t&   x≤0 , \\\\\n",
        "             \\\\ \\frac{x^2}{2}\t&   si\t&   0≤x<1, \\\\\n",
        "             \\\\ 2x-\\frac{x^2}{2}-1\t&   si\t&   1≤x≤2, \\\\\n",
        "             \\\\ 1 &   si\t&   x\\geq2\n",
        "             \\end{array}\n",
        "   \\right.$$\n",
        "\n",
        "y el gráfico $F(x)$ es dado"
      ],
      "metadata": {
        "id": "jL4MmReONPMY"
      }
    },
    {
      "cell_type": "markdown",
      "metadata": {
        "id": "LR3L12z92ZGA"
      },
      "source": [
        "# **d. Ejemplo - La distribución Uniforme usando Numpy**\n",
        "+ Una variable aleatoria continua $X$ sigue una distribución Uniforme de parámetros $a$ y $b$, lo cual denotamos por $$X∼U(a=5 , b=8)$$ si tiene funcion FDP dada por la formula:\n",
        "$$ f(X=x)= f(x,μ , σ) = \\frac{1}{b-a}= \\frac{1}{3}, \\ para\\ a\\leq x \\leq b$$\n",
        "+ Tambien $$E(X)=\\mu=\\frac{a+b}{2}=\\frac{13}{2}, \\ \\ \\ \\ V(X)=σ^2=\\frac{9}{12}$$\n"
      ]
    },
    {
      "cell_type": "code",
      "execution_count": null,
      "metadata": {
        "colab": {
          "base_uri": "https://localhost:8080/",
          "height": 473
        },
        "id": "Nr8prId9m4gT",
        "outputId": "08c016d7-f5dc-424f-c8f5-b7cf12a084b5"
      },
      "outputs": [
        {
          "data": {
            "image/png": "[encoded data removed]",
            "text/plain": [
              "<Figure size 640x480 with 1 Axes>"
            ]
          },
          "metadata": {},
          "output_type": "display_data"
        }
      ],
      "source": [
        "# **d. Ejemplo - La distribución Uniforme usando Numpy**\n",
        "uniform_samples = np.random.uniform(5, 8, size=10000)\n",
        "\n",
        "fig, ax = plt.subplots()\n",
        "plt.hist(uniform_samples, density=True, bins=6)\n",
        "plt.title('Distribución uniforme', size=14)\n",
        "plt.xlabel('Muestras')\n",
        "plt.ylabel('Densidad')\n",
        "plt.axhline(1/6, color='#3793ef', linestyle='--')\n",
        "plt.show()"
      ]
    },
    {
      "cell_type": "markdown",
      "metadata": {
        "id": "XywUcMeQ2hlu"
      },
      "source": [
        "# **e. La distribución Uniforme usando Scipy.stats**"
      ]
    },
    {
      "cell_type": "code",
      "execution_count": null,
      "metadata": {
        "colab": {
          "base_uri": "https://localhost:8080/",
          "height": 472
        },
        "id": "Ww68guSVjOUT",
        "outputId": "51173d9a-14c6-407c-a64e-32edfcaf635f"
      },
      "outputs": [
        {
          "data": {
            "image/png": "[encoded data removed]",
            "text/plain": [
              "<Figure size 640x480 with 1 Axes>"
            ]
          },
          "metadata": {},
          "output_type": "display_data"
        }
      ],
      "source": [
        "# **b. La distribución Uniforme usando Scipy.stats**\n",
        "\n",
        "uniforme = stats.uniform(5,3)\n",
        "x = np.linspace(uniforme.ppf(0.01),\n",
        "                uniforme.ppf(0.99))\n",
        "fp = uniforme.pdf(x) # Función de Probabilidad\n",
        "fig, ax = plt.subplots()\n",
        "ax.plot(x, fp, '--')\n",
        "ax.vlines(x, 0, fp, colors='b', lw=5, alpha=0.5)\n",
        "ax.set_yticks([0., 0.2, 0.4])\n",
        "plt.title('Distribución Uniforme')\n",
        "plt.ylabel('probabilidad')\n",
        "plt.xlabel('valores')\n",
        "plt.show()\n",
        "\n"
      ]
    }
  ],
  "metadata": {
    "colab": {
      "provenance": [],
      "mount_file_id": "13X7nPE01ohpMi0ISyxuJIiqLTpL66n3c",
      "authorship_tag": "ABX9TyN3qUdQi0Yfdk/MdngpruA0",
      "include_colab_link": true
    },
    "kernelspec": {
      "display_name": "Python 3",
      "name": "python3"
    },
    "language_info": {
      "name": "python"
    }
  },
  "nbformat": 4,
  "nbformat_minor": 0
}