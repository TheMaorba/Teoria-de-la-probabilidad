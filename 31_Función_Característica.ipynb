{
  "nbformat": 4,
  "nbformat_minor": 0,
  "metadata": {
    "colab": {
      "provenance": [],
      "authorship_tag": "ABX9TyOFcjcokW0w61wce6V3p99s",
      "include_colab_link": true
    },
    "kernelspec": {
      "name": "python3",
      "display_name": "Python 3"
    },
    "language_info": {
      "name": "python"
    }
  },
  "cells": [
    {
      "cell_type": "markdown",
      "metadata": {
        "id": "view-in-github",
        "colab_type": "text"
      },
      "source": [
        "<a href=\"https://colab.research.google.com/github/JSEFERINO/Teoria-de-Probabilidad-MEYCD/blob/main/31_Funci%C3%B3n_Caracter%C3%ADstica.ipynb\" target=\"_parent\"><img src=\"https://colab.research.google.com/assets/colab-badge.svg\" alt=\"Open In Colab\"/></a>"
      ]
    },
    {
      "cell_type": "markdown",
      "source": [
        "# **Función Característica**\n",
        "+ Es una herramienta que permite simplificar en muchos problemas el manejo de las distribuciones de probabilidad.\n",
        "\n",
        "+ Se define como:\n",
        "\n",
        "$$φ(u)=E[e^{iuX}]$$\n",
        "\n",
        "+ Por tanto, si $X$  es discreta con función de probabilidad $P$:\n",
        "$$φ(u)=\\sum_ke^{iux}P(X=x)$$\n",
        "\n",
        "+ y si $X$ es continua con función de densidad $f(x)$:\n",
        "\n",
        "$$\\varphi\\left(u\\right)=\\int e^{iux}f\\left(x\\right)dx$$\n",
        "\n",
        "+ **Teorema**: Sea $X$ una variable aleatoria tal que $E[X^n]<∞$ para algún valor $n≥1$. Entonces existe la *k*-ésima derivada de $φ(u)$ para todo $k≤n$, y además:\n",
        "$$\\large{\\varphi^{\\left(k\\right)}\\left(0\\right)=i^{k}E\\left[X^{k}\\right]}$$\n",
        "+ De donde\n",
        "$$\\Large{E\\left[X^{k}\\right]=\\frac{1}{i^{k}}\\varphi^{\\left(k\\right)}\\left(0\\right)}$$\n"
      ],
      "metadata": {
        "id": "uCLiJIvWarsw"
      }
    },
    {
      "cell_type": "markdown",
      "source": [
        "# **Función característica: Distribución de Bernoulli**\n",
        "+ Sea $X$ una variable aleatoria con distribución de Bernoulli, esto es:\n",
        "$$\n",
        "X = \\begin{cases}\n",
        "0 & \\text{con probabilidad } 1 - p \\\\\n",
        "1 & \\text{con probabilidad } p\n",
        "\\end{cases}\n",
        "$$\n",
        "\n",
        "+ **Función característica**.\n",
        "$$\n",
        "\\varphi(u) = \\mathbb{E}[e^{iuX}] = \\sum_{x=0}^{1} e^{iux} P(X = x) = e^{iu \\cdot 0}(1 - p) + e^{iu \\cdot 1}p = (1 - p) + pe^{iu}\n",
        "$$\n",
        "\n",
        "+ **Esperanza $\\mathbb{E}[X]$**.\n",
        "$$\n",
        "\\mathbb{E}[X] = \\frac{1}{i} \\varphi'(0) = \\frac{1}{i} \\cdot p \\cdot i \\cdot e^{i \\cdot 0} = p\n",
        "$$\n",
        "+ **Esperanza $\\mathbb{E}[X^2]$**\n",
        "\n",
        "$$\n",
        "\\mathbb{E}[X^2] = \\frac{1}{i^2} \\varphi''(0) = \\frac{1}{i^2} \\cdot p \\cdot i^2 \\cdot e^{i \\cdot 0} = p\n",
        "$$\n",
        "+ **Varianza**.\n",
        "$$\n",
        "\\text{Var}(X) = \\mathbb{E}[X^2] - (\\mathbb{E}[X])^2 = p - p^2 = p(1 - p)\n",
        "$$\n"
      ],
      "metadata": {
        "id": "M29pMJ_5eRPw"
      }
    },
    {
      "cell_type": "markdown",
      "source": [
        "# **Función característica: Distribución binomial**\n",
        "\n",
        "+ Sea $X$ una variable aleatoria con distribución binomial $b(n, p)$. Entonces:\n",
        "$$\n",
        "P(X = k) = \\binom{n}{k} p^k (1 - p)^{n - k}, \\quad k = 0, 1, \\dots, n\n",
        "$$\n",
        "\n",
        "+ **Función característica**.\n",
        "$$\n",
        "\\varphi(u) = \\mathbb{E}[e^{iuX}] = \\sum_{k=0}^{n} e^{iuk} P(X = k) = \\sum_{k=0}^{n} e^{iuk} \\binom{n}{k} p^k (1 - p)^{n - k}\n",
        "$$\n",
        "$$\n",
        "= \\sum_{k=0}^{n} \\binom{n}{k} (p \\cdot e^{iu})^k (1 - p)^{n - k} = (p \\cdot e^{iu} + 1 - p)^n\n",
        "$$\n",
        "\n",
        "+ **Esperanza $\\mathbb{E}[X]$**.\n",
        "$$\n",
        "\\mathbb{E}[X] = \\frac{1}{i} \\varphi'(0)\n",
        "$$\n",
        "$$\n",
        "\\varphi'(u) = n (p \\cdot e^{iu} + 1 - p)^{n - 1} \\cdot p \\cdot i \\cdot e^{iu} \\Rightarrow \\varphi'(0) = n \\cdot p \\cdot i \\Rightarrow \\mathbb{E}[X] = \\frac{1}{i} \\varphi'(0) = n p\n",
        "$$\n",
        "\n",
        "+ **Esperanza $\\mathbb{E}[X^2]$**\n",
        "\n",
        "$$\n",
        "\\mathbb{E}[X^2] = \\frac{1}{i^2} \\varphi''(0)$$\n",
        "\n",
        "+ **Varianza**\n",
        "$$\n",
        "\\text{Var}(X) = \\mathbb{E}[X^2] - (\\mathbb{E}[X])^2 = \\frac{1}{i^2} \\varphi''(0) - \\left(\\frac{1}{i} \\varphi'(0)\\right)^2 = \\cdots = n p (1 - p)\n",
        "$$\n",
        "\n",
        "\n"
      ],
      "metadata": {
        "id": "ZSPwTMcdi0mH"
      }
    },
    {
      "cell_type": "markdown",
      "source": [
        "# **Función característica: Distribución de Poisson**\n",
        "\n",
        "+ Sea $X$ una variable aleatoria con distribución de Poisson, esto es:\n",
        "$$\n",
        "P(X = x) = \\frac{e^{-\\mu} \\mu^x}{x!}, \\quad x = 0, 1, 2, \\dots\n",
        "$$\n",
        "\n",
        "+ **Función característica**.\n",
        "$$\n",
        "\\varphi(u) = \\mathbb{E}[e^{iuX}] = \\sum_{x=0}^{\\infty} e^{iux} P(X = x) = \\sum_{x=0}^{\\infty} e^{iux} \\frac{e^{-\\mu} \\mu^x}{x!}\n",
        "$$\n",
        "$$\n",
        "= e^{-\\mu} \\sum_{x=0}^{\\infty} \\frac{(\\mu e^{iu})^x}{x!} = e^{-\\mu} e^{\\mu e^{iu}} = e^{\\mu (e^{iu} - 1)}\n",
        "$$\n",
        "\n",
        "+ **Esperanza**\n",
        "$$\n",
        "\\varphi'(u) = i \\mu e^{iu} e^{\\mu (e^{iu} - 1)} \\Rightarrow \\varphi'(0) = i \\mu \\Rightarrow \\mathbb{E}[X] = \\frac{1}{i} \\varphi'(0) = \\mu\n",
        "$$\n",
        "\n",
        "+ **Varianza**.\n",
        "$$\n",
        "\\text{Var}(X) = \\mathbb{E}[X^2] - (\\mathbb{E}[X])^2 = \\frac{1}{i^2} \\varphi''(0) - \\left(\\frac{1}{i} \\varphi'(0)\\right)^2 = \\cdots = \\mu\n",
        "$$\n"
      ],
      "metadata": {
        "id": "noxrW4IFk_Fj"
      }
    },
    {
      "cell_type": "markdown",
      "source": [
        "# **Función característica: Distribución exponencial**\n",
        "\n",
        "+ Sea $X$ una variable aleatoria con distribución exponencial, esto es:\n",
        "$$\n",
        "f(x) = \\lambda e^{-\\lambda x}, \\quad x \\geq 0\n",
        "$$\n",
        "\n",
        "+ **Función característica**.\n",
        "$$\n",
        "\\varphi(u) = \\mathbb{E}[e^{iux}] = \\int_{0}^{\\infty} e^{iux} f(x) \\, dx = \\int_{0}^{\\infty} e^{iux} \\lambda e^{-\\lambda x} \\, dx\n",
        "$$\n",
        "$$\n",
        "= \\lambda \\int_{0}^{\\infty} e^{-(\\lambda - iu)x} \\, dx = \\lambda \\left[ \\frac{-e^{-(\\lambda - iu)x}}{\\lambda - iu} \\right]_{0}^{\\infty} = \\frac{\\lambda}{\\lambda - iu}\n",
        "$$\n",
        "\n",
        "+ **Esperanza**.\n",
        "$$\n",
        "\\varphi'(u) = \\lambda \\frac{i}{(\\lambda - iu)^2} \\Rightarrow \\varphi'(0) = \\frac{i \\lambda}{\\lambda^2} = \\frac{i}{\\lambda} \\Rightarrow \\mathbb{E}[X] = \\frac{1}{i} \\varphi'(0) = \\frac{1}{\\lambda}\n",
        "$$\n",
        "\n",
        "+ **Varianza**.\n",
        "$$\n",
        "\\text{Var}(X) = \\mathbb{E}[X^2] - (\\mathbb{E}[X])^2 = \\frac{1}{i^2} \\varphi''(0) - \\left(\\frac{1}{i} \\varphi'(0)\\right)^2 = \\cdots = \\frac{1}{\\lambda^2}\n",
        "$$"
      ],
      "metadata": {
        "id": "7RTU1LXDllYM"
      }
    },
    {
      "cell_type": "markdown",
      "source": [
        "# **Función característica: Distribución normal**\n",
        "\n",
        "+ Sea $X$ una variable aleatoria con distribución normal $N(\\mu, \\sigma)$, esto es:\n",
        "$$\n",
        "f(x) = \\frac{1}{\\sigma \\sqrt{2\\pi}} e^{-\\frac{1}{2} \\left(\\frac{x - \\mu}{\\sigma}\\right)^2}, \\quad x \\in \\mathbb{R}\n",
        "$$\n",
        "\n",
        "+ **Función característica**\n",
        "$$\n",
        "\\varphi(u) = e^{i\\mu u - \\frac{1}{2} \\sigma^2 u^2}\n",
        "$$\n",
        "+ **Demostración: Función característica de la distribución normal**.\n",
        "+ https://estadistica-dma.ulpgc.es/EyPE/Demostraciones.html#funCarNormal\n",
        "\n",
        "+ Partimos de la definición de función característica:\n",
        "\n",
        "$$\n",
        "\\varphi(u) = \\mathbb{E}[e^{iuX}] = \\int_{-\\infty}^{\\infty} e^{iux} \\frac{1}{\\sigma \\sqrt{2\\pi}} e^{-\\frac{1}{2} \\left( \\frac{x - \\mu}{\\sigma} \\right)^2} dx = \\frac{1}{\\sigma \\sqrt{2\\pi}} \\int_{-\\infty}^{\\infty} e^{iux - \\frac{1}{2} \\left( \\frac{x - \\mu}{\\sigma} \\right)^2} dx\n",
        "$$\n",
        "\n",
        "+ Para simplificar llamaremos:\n",
        "$$\n",
        "a = \\frac{1}{\\sigma \\sqrt{2\\pi}}\n",
        "$$\n",
        "+ por lo que podemos expresar:\n",
        "\n",
        "$$\n",
        "\\varphi(u) = a \\int_{-\\infty}^{\\infty} e^{iux - \\frac{1}{2} \\left( \\frac{x - \\mu}{\\sigma} \\right)^2} dx\n",
        "$$\n",
        "\n",
        "+ Hacemos ahora el cambio de variable $t = x - \\mu$, $dt = dx$, y se tiene que:\n",
        "\n",
        "$$\n",
        "\\varphi(u) = a \\int_{-\\infty}^{\\infty} e^{iu(t + \\mu) - \\frac{1}{2} \\left( \\frac{t}{\\sigma} \\right)^2} dt = a e^{iu\\mu} \\int_{-\\infty}^{\\infty} e^{iut - \\frac{1}{2} \\left( \\frac{t}{\\sigma} \\right)^2} dt\n",
        "$$\n",
        "\n",
        "$$\n",
        "= a e^{iu\\mu} \\int_{-\\infty}^{\\infty} e^{-\\frac{1}{2\\sigma^2} \\left( t^2 - 2iut\\sigma^2 \\right)} dt\n",
        "$$\n",
        "\n",
        "$$\n",
        "= a e^{iu\\mu} \\int_{-\\infty}^{\\infty} e^{-\\frac{1}{2\\sigma^2} \\left( t^2 - 2iut\\sigma^2 + (iu\\sigma^2)^2 - (iu\\sigma^2)^2 \\right)} dt\n",
        "$$\n",
        "\n",
        "$$\n",
        "= a e^{iu\\mu - \\frac{1}{2}u^2\\sigma^2} \\int_{-\\infty}^{\\infty} e^{-\\frac{1}{2\\sigma^2} (t - iu\\sigma^2)^2} dt\n",
        "$$\n",
        "\n",
        "+ y haciendo ahora el nuevo cambio de variable: $s = \\frac{t - iu\\sigma^2}{\\sqrt{\\sigma^2}}$, $ds = \\frac{1}{\\sqrt{\\sigma^2}} dt$, la integral anterior puede expresarse como:\n",
        "\n",
        "$$\n",
        "\\varphi(u) = a \\sqrt{\\sigma^2} e^{iu\\mu - \\frac{1}{2}u^2\\sigma^2} \\int_{-\\infty}^{\\infty} e^{-s^2} ds\n",
        "$$\n",
        "\n",
        "+ Sustituyendo $a$ por su valor original $\\frac{1}{\\sigma \\sqrt{2\\pi}}$:\n",
        "\n",
        "$$\n",
        "\\varphi(u) = \\frac{1}{\\sqrt{2\\pi}} e^{iu\\mu - \\frac{1}{2}u^2\\sigma^2} \\int_{-\\infty}^{\\infty} e^{-s^2} ds\n",
        "$$\n",
        "\n",
        "+ El término $\\int_{-\\infty}^{\\infty} e^{-s^2} ds$ se conoce como integral de Gauss y su valor es: $\\int_{-\\infty}^{\\infty} e^{-s^2} ds = \\sqrt{\\pi}$ (véase, por ejemplo, url: https://es.wikipedia.org/wiki/Integral_de_Gauss para una demostración de este resultado).\n",
        "+ Sustituyendo el valor de la integral de Gauss en la expresión de $\\varphi(u)$ se obtiene definitivamente que la función característica de la distribución normal es:\n",
        "\n",
        "$$\n",
        "\\varphi(u) = e^{i\\mu u - \\frac{1}{2}\\sigma^2 u^2}\n",
        "$$\n",
        "\n"
      ],
      "metadata": {
        "id": "3uD5AMIRnrXz"
      }
    },
    {
      "cell_type": "markdown",
      "source": [
        "\n",
        "+ **Esperanza**\n",
        "$$\n",
        "\\varphi'(u) = \\left(i\\mu - \\sigma^2 u\\right) e^{i\\mu u - \\frac{1}{2} \\sigma^2 u^2} \\Rightarrow \\varphi'(0) = i\\mu \\Rightarrow \\mathbb{E}[X] = \\frac{1}{i} \\varphi'(0) = \\mu\n",
        "$$\n",
        "\n",
        "+ **Varianza**\n",
        "$$\n",
        "\\text{Var}(X) = \\mathbb{E}[X^2] - (\\mathbb{E}[X])^2 = \\frac{1}{i^2} \\varphi''(0) - \\left(\\frac{1}{i} \\varphi'(0)\\right)^2 = \\cdots = \\sigma^2\n",
        "$$\n"
      ],
      "metadata": {
        "id": "fb-NhuYbpTLB"
      }
    }
  ]
}